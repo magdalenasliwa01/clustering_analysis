{
  "cells": [
    {
      "cell_type": "markdown",
      "metadata": {
        "id": "qzk_LkyRNki2"
      },
      "source": [
        "#Imports"
      ]
    },
    {
      "cell_type": "code",
      "execution_count": 1,
      "metadata": {
        "id": "bypwZYGBNZ6x"
      },
      "outputs": [],
      "source": [
        "# Import necessary packages\n",
        "import pandas as pd\n",
        "import numpy as np\n",
        "import seaborn as sns\n",
        "import statsmodels.api as sm # package for many different statistical models\n",
        "from functools import reduce\n",
        "\n",
        "%matplotlib inline\n",
        "import matplotlib.pyplot as plt\n",
        "plt.style.use('ggplot')\n",
        "from mpl_toolkits.mplot3d import Axes3D\n",
        "\n",
        "#Package for inbuilt dataset in Python [scikit-learn]\n",
        "from sklearn import datasets\n",
        "from sklearn import linear_model\n",
        "from sklearn.model_selection import train_test_split\n",
        "from sklearn.model_selection import cross_validate\n",
        "from sklearn.preprocessing import StandardScaler\n",
        "\n",
        "from scipy import stats\n",
        "\n"
      ]
    },
    {
      "cell_type": "markdown",
      "metadata": {
        "id": "rcdwrca8N7Go"
      },
      "source": [
        "#Loading Data"
      ]
    },
    {
      "cell_type": "code",
      "execution_count": 2,
      "metadata": {
        "colab": {
          "base_uri": "https://localhost:8080/"
        },
        "id": "nHQV75prPbnF",
        "outputId": "b9e273b7-2943-4494-d219-042613d4d419"
      },
      "outputs": [
        {
          "output_type": "stream",
          "name": "stdout",
          "text": [
            "Mounted at /content/drive\n"
          ]
        }
      ],
      "source": [
        "#Importing drive as a source of data\n",
        "from google.colab import drive\n",
        "drive.mount('/content/drive')"
      ]
    },
    {
      "cell_type": "code",
      "execution_count": 4,
      "metadata": {
        "id": "Rkyu4S45PlbO"
      },
      "outputs": [],
      "source": [
        "#Loading dataset from google drive\n",
        "data_csv = pd.read_csv('/content/drive/MyDrive/HDinDA/Machine_Learning/Ca1/cancer_reg.csv')"
      ]
    },
    {
      "cell_type": "markdown",
      "metadata": {
        "id": "Mqj7tJB_xlW9"
      },
      "source": [
        "Exploring the data"
      ]
    },
    {
      "cell_type": "code",
      "execution_count": 5,
      "metadata": {
        "colab": {
          "base_uri": "https://localhost:8080/"
        },
        "id": "M2CsRTVDQP5H",
        "outputId": "e63e90ad-4bcd-4a91-c6b3-cf8b9a7a9f1f"
      },
      "outputs": [
        {
          "output_type": "execute_result",
          "data": {
            "text/plain": [
              "Index(['avganncount', 'avgdeathsperyear', 'target_deathrate', 'incidencerate',\n",
              "       'medincome', 'popest2015', 'povertypercent', 'studypercap', 'binnedinc',\n",
              "       'medianage', 'medianagemale', 'medianagefemale', 'geography',\n",
              "       'percentmarried', 'pctnohs18_24', 'pcths18_24', 'pctsomecol18_24',\n",
              "       'pctbachdeg18_24', 'pcths25_over', 'pctbachdeg25_over',\n",
              "       'pctemployed16_over', 'pctunemployed16_over', 'pctprivatecoverage',\n",
              "       'pctprivatecoveragealone', 'pctempprivcoverage', 'pctpubliccoverage',\n",
              "       'pctpubliccoveragealone', 'pctwhite', 'pctblack', 'pctasian',\n",
              "       'pctotherrace', 'pctmarriedhouseholds', 'birthrate'],\n",
              "      dtype='object')"
            ]
          },
          "metadata": {},
          "execution_count": 5
        }
      ],
      "source": [
        "#Displaying variables\n",
        "data_csv.columns"
      ]
    },
    {
      "cell_type": "code",
      "execution_count": 6,
      "metadata": {
        "colab": {
          "base_uri": "https://localhost:8080/"
        },
        "id": "8d-l56uLQaKs",
        "outputId": "348be964-d09d-4f5e-f164-278cda29c48c"
      },
      "outputs": [
        {
          "output_type": "stream",
          "name": "stdout",
          "text": [
            "(3047, 33)\n"
          ]
        }
      ],
      "source": [
        "#Displaying dataset's shape\n",
        "print(data_csv.shape)"
      ]
    },
    {
      "cell_type": "code",
      "execution_count": 7,
      "metadata": {
        "colab": {
          "base_uri": "https://localhost:8080/",
          "height": 386
        },
        "id": "cYtfI3zgQtbe",
        "outputId": "4b7076b8-d736-4af4-d09e-5538f9b4dd4d"
      },
      "outputs": [
        {
          "output_type": "execute_result",
          "data": {
            "text/plain": [
              "   avganncount  avgdeathsperyear  target_deathrate  incidencerate  medincome  \\\n",
              "0       1397.0               469             164.9          489.8      61898   \n",
              "1        173.0                70             161.3          411.6      48127   \n",
              "2        102.0                50             174.7          349.7      49348   \n",
              "3        427.0               202             194.8          430.4      44243   \n",
              "4         57.0                26             144.4          350.1      49955   \n",
              "\n",
              "   popest2015  povertypercent  studypercap           binnedinc  medianage  \\\n",
              "0      260131            11.2   499.748204   (61494.5, 125635]       39.3   \n",
              "1       43269            18.6    23.111234  (48021.6, 51046.4]       33.0   \n",
              "2       21026            14.6    47.560164  (48021.6, 51046.4]       45.0   \n",
              "3       75882            17.1   342.637253    (42724.4, 45201]       42.8   \n",
              "4       10321            12.5     0.000000  (48021.6, 51046.4]       48.3   \n",
              "\n",
              "   ...  pctprivatecoveragealone  pctempprivcoverage pctpubliccoverage  \\\n",
              "0  ...                      NaN                41.6              32.9   \n",
              "1  ...                     53.8                43.6              31.1   \n",
              "2  ...                     43.5                34.9              42.1   \n",
              "3  ...                     40.3                35.0              45.3   \n",
              "4  ...                     43.9                35.1              44.0   \n",
              "\n",
              "   pctpubliccoveragealone   pctwhite  pctblack  pctasian  pctotherrace  \\\n",
              "0                    14.0  81.780529  2.594728  4.821857      1.843479   \n",
              "1                    15.3  89.228509  0.969102  2.246233      3.741352   \n",
              "2                    21.1  90.922190  0.739673  0.465898      2.747358   \n",
              "3                    25.0  91.744686  0.782626  1.161359      1.362643   \n",
              "4                    22.7  94.104024  0.270192  0.665830      0.492135   \n",
              "\n",
              "   pctmarriedhouseholds  birthrate  \n",
              "0             52.856076   6.118831  \n",
              "1             45.372500   4.333096  \n",
              "2             54.444868   3.729488  \n",
              "3             51.021514   4.603841  \n",
              "4             54.027460   6.796657  \n",
              "\n",
              "[5 rows x 33 columns]"
            ],
            "text/html": [
              "\n",
              "  <div id=\"df-94b2ec58-9ed6-4cc8-885b-e93b0de8fdb8\">\n",
              "    <div class=\"colab-df-container\">\n",
              "      <div>\n",
              "<style scoped>\n",
              "    .dataframe tbody tr th:only-of-type {\n",
              "        vertical-align: middle;\n",
              "    }\n",
              "\n",
              "    .dataframe tbody tr th {\n",
              "        vertical-align: top;\n",
              "    }\n",
              "\n",
              "    .dataframe thead th {\n",
              "        text-align: right;\n",
              "    }\n",
              "</style>\n",
              "<table border=\"1\" class=\"dataframe\">\n",
              "  <thead>\n",
              "    <tr style=\"text-align: right;\">\n",
              "      <th></th>\n",
              "      <th>avganncount</th>\n",
              "      <th>avgdeathsperyear</th>\n",
              "      <th>target_deathrate</th>\n",
              "      <th>incidencerate</th>\n",
              "      <th>medincome</th>\n",
              "      <th>popest2015</th>\n",
              "      <th>povertypercent</th>\n",
              "      <th>studypercap</th>\n",
              "      <th>binnedinc</th>\n",
              "      <th>medianage</th>\n",
              "      <th>...</th>\n",
              "      <th>pctprivatecoveragealone</th>\n",
              "      <th>pctempprivcoverage</th>\n",
              "      <th>pctpubliccoverage</th>\n",
              "      <th>pctpubliccoveragealone</th>\n",
              "      <th>pctwhite</th>\n",
              "      <th>pctblack</th>\n",
              "      <th>pctasian</th>\n",
              "      <th>pctotherrace</th>\n",
              "      <th>pctmarriedhouseholds</th>\n",
              "      <th>birthrate</th>\n",
              "    </tr>\n",
              "  </thead>\n",
              "  <tbody>\n",
              "    <tr>\n",
              "      <th>0</th>\n",
              "      <td>1397.0</td>\n",
              "      <td>469</td>\n",
              "      <td>164.9</td>\n",
              "      <td>489.8</td>\n",
              "      <td>61898</td>\n",
              "      <td>260131</td>\n",
              "      <td>11.2</td>\n",
              "      <td>499.748204</td>\n",
              "      <td>(61494.5, 125635]</td>\n",
              "      <td>39.3</td>\n",
              "      <td>...</td>\n",
              "      <td>NaN</td>\n",
              "      <td>41.6</td>\n",
              "      <td>32.9</td>\n",
              "      <td>14.0</td>\n",
              "      <td>81.780529</td>\n",
              "      <td>2.594728</td>\n",
              "      <td>4.821857</td>\n",
              "      <td>1.843479</td>\n",
              "      <td>52.856076</td>\n",
              "      <td>6.118831</td>\n",
              "    </tr>\n",
              "    <tr>\n",
              "      <th>1</th>\n",
              "      <td>173.0</td>\n",
              "      <td>70</td>\n",
              "      <td>161.3</td>\n",
              "      <td>411.6</td>\n",
              "      <td>48127</td>\n",
              "      <td>43269</td>\n",
              "      <td>18.6</td>\n",
              "      <td>23.111234</td>\n",
              "      <td>(48021.6, 51046.4]</td>\n",
              "      <td>33.0</td>\n",
              "      <td>...</td>\n",
              "      <td>53.8</td>\n",
              "      <td>43.6</td>\n",
              "      <td>31.1</td>\n",
              "      <td>15.3</td>\n",
              "      <td>89.228509</td>\n",
              "      <td>0.969102</td>\n",
              "      <td>2.246233</td>\n",
              "      <td>3.741352</td>\n",
              "      <td>45.372500</td>\n",
              "      <td>4.333096</td>\n",
              "    </tr>\n",
              "    <tr>\n",
              "      <th>2</th>\n",
              "      <td>102.0</td>\n",
              "      <td>50</td>\n",
              "      <td>174.7</td>\n",
              "      <td>349.7</td>\n",
              "      <td>49348</td>\n",
              "      <td>21026</td>\n",
              "      <td>14.6</td>\n",
              "      <td>47.560164</td>\n",
              "      <td>(48021.6, 51046.4]</td>\n",
              "      <td>45.0</td>\n",
              "      <td>...</td>\n",
              "      <td>43.5</td>\n",
              "      <td>34.9</td>\n",
              "      <td>42.1</td>\n",
              "      <td>21.1</td>\n",
              "      <td>90.922190</td>\n",
              "      <td>0.739673</td>\n",
              "      <td>0.465898</td>\n",
              "      <td>2.747358</td>\n",
              "      <td>54.444868</td>\n",
              "      <td>3.729488</td>\n",
              "    </tr>\n",
              "    <tr>\n",
              "      <th>3</th>\n",
              "      <td>427.0</td>\n",
              "      <td>202</td>\n",
              "      <td>194.8</td>\n",
              "      <td>430.4</td>\n",
              "      <td>44243</td>\n",
              "      <td>75882</td>\n",
              "      <td>17.1</td>\n",
              "      <td>342.637253</td>\n",
              "      <td>(42724.4, 45201]</td>\n",
              "      <td>42.8</td>\n",
              "      <td>...</td>\n",
              "      <td>40.3</td>\n",
              "      <td>35.0</td>\n",
              "      <td>45.3</td>\n",
              "      <td>25.0</td>\n",
              "      <td>91.744686</td>\n",
              "      <td>0.782626</td>\n",
              "      <td>1.161359</td>\n",
              "      <td>1.362643</td>\n",
              "      <td>51.021514</td>\n",
              "      <td>4.603841</td>\n",
              "    </tr>\n",
              "    <tr>\n",
              "      <th>4</th>\n",
              "      <td>57.0</td>\n",
              "      <td>26</td>\n",
              "      <td>144.4</td>\n",
              "      <td>350.1</td>\n",
              "      <td>49955</td>\n",
              "      <td>10321</td>\n",
              "      <td>12.5</td>\n",
              "      <td>0.000000</td>\n",
              "      <td>(48021.6, 51046.4]</td>\n",
              "      <td>48.3</td>\n",
              "      <td>...</td>\n",
              "      <td>43.9</td>\n",
              "      <td>35.1</td>\n",
              "      <td>44.0</td>\n",
              "      <td>22.7</td>\n",
              "      <td>94.104024</td>\n",
              "      <td>0.270192</td>\n",
              "      <td>0.665830</td>\n",
              "      <td>0.492135</td>\n",
              "      <td>54.027460</td>\n",
              "      <td>6.796657</td>\n",
              "    </tr>\n",
              "  </tbody>\n",
              "</table>\n",
              "<p>5 rows × 33 columns</p>\n",
              "</div>\n",
              "      <button class=\"colab-df-convert\" onclick=\"convertToInteractive('df-94b2ec58-9ed6-4cc8-885b-e93b0de8fdb8')\"\n",
              "              title=\"Convert this dataframe to an interactive table.\"\n",
              "              style=\"display:none;\">\n",
              "        \n",
              "  <svg xmlns=\"http://www.w3.org/2000/svg\" height=\"24px\"viewBox=\"0 0 24 24\"\n",
              "       width=\"24px\">\n",
              "    <path d=\"M0 0h24v24H0V0z\" fill=\"none\"/>\n",
              "    <path d=\"M18.56 5.44l.94 2.06.94-2.06 2.06-.94-2.06-.94-.94-2.06-.94 2.06-2.06.94zm-11 1L8.5 8.5l.94-2.06 2.06-.94-2.06-.94L8.5 2.5l-.94 2.06-2.06.94zm10 10l.94 2.06.94-2.06 2.06-.94-2.06-.94-.94-2.06-.94 2.06-2.06.94z\"/><path d=\"M17.41 7.96l-1.37-1.37c-.4-.4-.92-.59-1.43-.59-.52 0-1.04.2-1.43.59L10.3 9.45l-7.72 7.72c-.78.78-.78 2.05 0 2.83L4 21.41c.39.39.9.59 1.41.59.51 0 1.02-.2 1.41-.59l7.78-7.78 2.81-2.81c.8-.78.8-2.07 0-2.86zM5.41 20L4 18.59l7.72-7.72 1.47 1.35L5.41 20z\"/>\n",
              "  </svg>\n",
              "      </button>\n",
              "      \n",
              "  <style>\n",
              "    .colab-df-container {\n",
              "      display:flex;\n",
              "      flex-wrap:wrap;\n",
              "      gap: 12px;\n",
              "    }\n",
              "\n",
              "    .colab-df-convert {\n",
              "      background-color: #E8F0FE;\n",
              "      border: none;\n",
              "      border-radius: 50%;\n",
              "      cursor: pointer;\n",
              "      display: none;\n",
              "      fill: #1967D2;\n",
              "      height: 32px;\n",
              "      padding: 0 0 0 0;\n",
              "      width: 32px;\n",
              "    }\n",
              "\n",
              "    .colab-df-convert:hover {\n",
              "      background-color: #E2EBFA;\n",
              "      box-shadow: 0px 1px 2px rgba(60, 64, 67, 0.3), 0px 1px 3px 1px rgba(60, 64, 67, 0.15);\n",
              "      fill: #174EA6;\n",
              "    }\n",
              "\n",
              "    [theme=dark] .colab-df-convert {\n",
              "      background-color: #3B4455;\n",
              "      fill: #D2E3FC;\n",
              "    }\n",
              "\n",
              "    [theme=dark] .colab-df-convert:hover {\n",
              "      background-color: #434B5C;\n",
              "      box-shadow: 0px 1px 3px 1px rgba(0, 0, 0, 0.15);\n",
              "      filter: drop-shadow(0px 1px 2px rgba(0, 0, 0, 0.3));\n",
              "      fill: #FFFFFF;\n",
              "    }\n",
              "  </style>\n",
              "\n",
              "      <script>\n",
              "        const buttonEl =\n",
              "          document.querySelector('#df-94b2ec58-9ed6-4cc8-885b-e93b0de8fdb8 button.colab-df-convert');\n",
              "        buttonEl.style.display =\n",
              "          google.colab.kernel.accessAllowed ? 'block' : 'none';\n",
              "\n",
              "        async function convertToInteractive(key) {\n",
              "          const element = document.querySelector('#df-94b2ec58-9ed6-4cc8-885b-e93b0de8fdb8');\n",
              "          const dataTable =\n",
              "            await google.colab.kernel.invokeFunction('convertToInteractive',\n",
              "                                                     [key], {});\n",
              "          if (!dataTable) return;\n",
              "\n",
              "          const docLinkHtml = 'Like what you see? Visit the ' +\n",
              "            '<a target=\"_blank\" href=https://colab.research.google.com/notebooks/data_table.ipynb>data table notebook</a>'\n",
              "            + ' to learn more about interactive tables.';\n",
              "          element.innerHTML = '';\n",
              "          dataTable['output_type'] = 'display_data';\n",
              "          await google.colab.output.renderOutput(dataTable, element);\n",
              "          const docLink = document.createElement('div');\n",
              "          docLink.innerHTML = docLinkHtml;\n",
              "          element.appendChild(docLink);\n",
              "        }\n",
              "      </script>\n",
              "    </div>\n",
              "  </div>\n",
              "  "
            ]
          },
          "metadata": {},
          "execution_count": 7
        }
      ],
      "source": [
        "#Displaying first 4 records\n",
        "data_csv.head()"
      ]
    },
    {
      "cell_type": "code",
      "execution_count": 8,
      "metadata": {
        "colab": {
          "base_uri": "https://localhost:8080/"
        },
        "id": "JGVA87BSQBy2",
        "outputId": "f22b37ca-1037-48c2-f752-457100d658eb"
      },
      "outputs": [
        {
          "output_type": "execute_result",
          "data": {
            "text/plain": [
              "avganncount                 929\n",
              "avgdeathsperyear            608\n",
              "target_deathrate           1053\n",
              "incidencerate              1506\n",
              "medincome                  2920\n",
              "popest2015                 2999\n",
              "povertypercent              333\n",
              "studypercap                1117\n",
              "binnedinc                    10\n",
              "medianage                   325\n",
              "medianagemale               298\n",
              "medianagefemale             296\n",
              "geography                  3047\n",
              "percentmarried              362\n",
              "pctnohs18_24                405\n",
              "pcths18_24                  469\n",
              "pctsomecol18_24             343\n",
              "pctbachdeg18_24             219\n",
              "pcths25_over                361\n",
              "pctbachdeg25_over           281\n",
              "pctemployed16_over          409\n",
              "pctunemployed16_over        195\n",
              "pctprivatecoverage          498\n",
              "pctprivatecoveragealone     459\n",
              "pctempprivcoverage          450\n",
              "pctpubliccoverage           395\n",
              "pctpubliccoveragealone      319\n",
              "pctwhite                   3044\n",
              "pctblack                   2972\n",
              "pctasian                   2852\n",
              "pctotherrace               2903\n",
              "pctmarriedhouseholds       3043\n",
              "birthrate                  3019\n",
              "dtype: int64"
            ]
          },
          "metadata": {},
          "execution_count": 8
        }
      ],
      "source": [
        "#Checking unique values for each variable\n",
        "data_csv.nunique()"
      ]
    },
    {
      "cell_type": "code",
      "execution_count": 9,
      "metadata": {
        "colab": {
          "base_uri": "https://localhost:8080/"
        },
        "id": "pH6jB_YtReNQ",
        "outputId": "5db28677-84c8-4c12-b5f8-c175f4961dae"
      },
      "outputs": [
        {
          "output_type": "stream",
          "name": "stdout",
          "text": [
            "<class 'pandas.core.frame.DataFrame'>\n",
            "RangeIndex: 3047 entries, 0 to 3046\n",
            "Data columns (total 33 columns):\n",
            " #   Column                   Non-Null Count  Dtype  \n",
            "---  ------                   --------------  -----  \n",
            " 0   avganncount              3047 non-null   float64\n",
            " 1   avgdeathsperyear         3047 non-null   int64  \n",
            " 2   target_deathrate         3047 non-null   float64\n",
            " 3   incidencerate            3047 non-null   float64\n",
            " 4   medincome                3047 non-null   int64  \n",
            " 5   popest2015               3047 non-null   int64  \n",
            " 6   povertypercent           3047 non-null   float64\n",
            " 7   studypercap              3047 non-null   float64\n",
            " 8   binnedinc                3047 non-null   object \n",
            " 9   medianage                3047 non-null   float64\n",
            " 10  medianagemale            3047 non-null   float64\n",
            " 11  medianagefemale          3047 non-null   float64\n",
            " 12  geography                3047 non-null   object \n",
            " 13  percentmarried           3047 non-null   float64\n",
            " 14  pctnohs18_24             3047 non-null   float64\n",
            " 15  pcths18_24               3047 non-null   float64\n",
            " 16  pctsomecol18_24          762 non-null    float64\n",
            " 17  pctbachdeg18_24          3047 non-null   float64\n",
            " 18  pcths25_over             3047 non-null   float64\n",
            " 19  pctbachdeg25_over        3047 non-null   float64\n",
            " 20  pctemployed16_over       2895 non-null   float64\n",
            " 21  pctunemployed16_over     3047 non-null   float64\n",
            " 22  pctprivatecoverage       3047 non-null   float64\n",
            " 23  pctprivatecoveragealone  2438 non-null   float64\n",
            " 24  pctempprivcoverage       3047 non-null   float64\n",
            " 25  pctpubliccoverage        3047 non-null   float64\n",
            " 26  pctpubliccoveragealone   3047 non-null   float64\n",
            " 27  pctwhite                 3047 non-null   float64\n",
            " 28  pctblack                 3047 non-null   float64\n",
            " 29  pctasian                 3047 non-null   float64\n",
            " 30  pctotherrace             3047 non-null   float64\n",
            " 31  pctmarriedhouseholds     3047 non-null   float64\n",
            " 32  birthrate                3047 non-null   float64\n",
            "dtypes: float64(28), int64(3), object(2)\n",
            "memory usage: 785.7+ KB\n"
          ]
        }
      ],
      "source": [
        "#identifying datatypes\n",
        "data_csv.info()"
      ]
    },
    {
      "cell_type": "code",
      "execution_count": 10,
      "metadata": {
        "colab": {
          "base_uri": "https://localhost:8080/",
          "height": 394
        },
        "id": "P07v9Eh6Nn_Q",
        "outputId": "cd00d218-f7ff-4c64-b9c9-de2602390e0b"
      },
      "outputs": [
        {
          "output_type": "execute_result",
          "data": {
            "text/plain": [
              "        avganncount  avgdeathsperyear  target_deathrate  incidencerate  \\\n",
              "count   3047.000000       3047.000000       3047.000000    3047.000000   \n",
              "mean     606.338544        185.965868        178.664063     448.268586   \n",
              "std     1416.356223        504.134286         27.751511      54.560733   \n",
              "min        6.000000          3.000000         59.700000     201.300000   \n",
              "25%       76.000000         28.000000        161.200000     420.300000   \n",
              "50%      171.000000         61.000000        178.100000     453.549422   \n",
              "75%      518.000000        149.000000        195.200000     480.850000   \n",
              "max    38150.000000      14010.000000        362.800000    1206.900000   \n",
              "\n",
              "           medincome    popest2015  povertypercent  studypercap    medianage  \\\n",
              "count    3047.000000  3.047000e+03     3047.000000  3047.000000  3047.000000   \n",
              "mean    47063.281917  1.026374e+05       16.878175   155.399415    45.272333   \n",
              "std     12040.090836  3.290592e+05        6.409087   529.628366    45.304480   \n",
              "min     22640.000000  8.270000e+02        3.200000     0.000000    22.300000   \n",
              "25%     38882.500000  1.168400e+04       12.150000     0.000000    37.700000   \n",
              "50%     45207.000000  2.664300e+04       15.900000     0.000000    41.000000   \n",
              "75%     52492.000000  6.867100e+04       20.400000    83.650776    44.000000   \n",
              "max    125635.000000  1.017029e+07       47.400000  9762.308998   624.000000   \n",
              "\n",
              "       medianagemale  ...  pctprivatecoveragealone  pctempprivcoverage  \\\n",
              "count    3047.000000  ...              2438.000000         3047.000000   \n",
              "mean       39.570725  ...                48.453774           41.196324   \n",
              "std         5.226017  ...                10.083006            9.447687   \n",
              "min        22.400000  ...                15.700000           13.500000   \n",
              "25%        36.350000  ...                41.000000           34.500000   \n",
              "50%        39.600000  ...                48.700000           41.100000   \n",
              "75%        42.500000  ...                55.600000           47.700000   \n",
              "max        64.700000  ...                78.900000           70.700000   \n",
              "\n",
              "       pctpubliccoverage  pctpubliccoveragealone     pctwhite     pctblack  \\\n",
              "count        3047.000000             3047.000000  3047.000000  3047.000000   \n",
              "mean           36.252642               19.240072    83.645286     9.107978   \n",
              "std             7.841741                6.113041    16.380025    14.534538   \n",
              "min            11.200000                2.600000    10.199155     0.000000   \n",
              "25%            30.900000               14.850000    77.296180     0.620675   \n",
              "50%            36.300000               18.800000    90.059774     2.247576   \n",
              "75%            41.550000               23.100000    95.451693    10.509732   \n",
              "max            65.100000               46.600000   100.000000    85.947799   \n",
              "\n",
              "          pctasian  pctotherrace  pctmarriedhouseholds    birthrate  \n",
              "count  3047.000000   3047.000000           3047.000000  3047.000000  \n",
              "mean      1.253965      1.983523             51.243872     5.640306  \n",
              "std       2.610276      3.517710              6.572814     1.985816  \n",
              "min       0.000000      0.000000             22.992490     0.000000  \n",
              "25%       0.254199      0.295172             47.763063     4.521419  \n",
              "50%       0.549812      0.826185             51.669941     5.381478  \n",
              "75%       1.221037      2.177960             55.395132     6.493677  \n",
              "max      42.619425     41.930251             78.075397    21.326165  \n",
              "\n",
              "[8 rows x 31 columns]"
            ],
            "text/html": [
              "\n",
              "  <div id=\"df-1ca0588f-815d-4037-8e02-c11fe7457f6b\">\n",
              "    <div class=\"colab-df-container\">\n",
              "      <div>\n",
              "<style scoped>\n",
              "    .dataframe tbody tr th:only-of-type {\n",
              "        vertical-align: middle;\n",
              "    }\n",
              "\n",
              "    .dataframe tbody tr th {\n",
              "        vertical-align: top;\n",
              "    }\n",
              "\n",
              "    .dataframe thead th {\n",
              "        text-align: right;\n",
              "    }\n",
              "</style>\n",
              "<table border=\"1\" class=\"dataframe\">\n",
              "  <thead>\n",
              "    <tr style=\"text-align: right;\">\n",
              "      <th></th>\n",
              "      <th>avganncount</th>\n",
              "      <th>avgdeathsperyear</th>\n",
              "      <th>target_deathrate</th>\n",
              "      <th>incidencerate</th>\n",
              "      <th>medincome</th>\n",
              "      <th>popest2015</th>\n",
              "      <th>povertypercent</th>\n",
              "      <th>studypercap</th>\n",
              "      <th>medianage</th>\n",
              "      <th>medianagemale</th>\n",
              "      <th>...</th>\n",
              "      <th>pctprivatecoveragealone</th>\n",
              "      <th>pctempprivcoverage</th>\n",
              "      <th>pctpubliccoverage</th>\n",
              "      <th>pctpubliccoveragealone</th>\n",
              "      <th>pctwhite</th>\n",
              "      <th>pctblack</th>\n",
              "      <th>pctasian</th>\n",
              "      <th>pctotherrace</th>\n",
              "      <th>pctmarriedhouseholds</th>\n",
              "      <th>birthrate</th>\n",
              "    </tr>\n",
              "  </thead>\n",
              "  <tbody>\n",
              "    <tr>\n",
              "      <th>count</th>\n",
              "      <td>3047.000000</td>\n",
              "      <td>3047.000000</td>\n",
              "      <td>3047.000000</td>\n",
              "      <td>3047.000000</td>\n",
              "      <td>3047.000000</td>\n",
              "      <td>3.047000e+03</td>\n",
              "      <td>3047.000000</td>\n",
              "      <td>3047.000000</td>\n",
              "      <td>3047.000000</td>\n",
              "      <td>3047.000000</td>\n",
              "      <td>...</td>\n",
              "      <td>2438.000000</td>\n",
              "      <td>3047.000000</td>\n",
              "      <td>3047.000000</td>\n",
              "      <td>3047.000000</td>\n",
              "      <td>3047.000000</td>\n",
              "      <td>3047.000000</td>\n",
              "      <td>3047.000000</td>\n",
              "      <td>3047.000000</td>\n",
              "      <td>3047.000000</td>\n",
              "      <td>3047.000000</td>\n",
              "    </tr>\n",
              "    <tr>\n",
              "      <th>mean</th>\n",
              "      <td>606.338544</td>\n",
              "      <td>185.965868</td>\n",
              "      <td>178.664063</td>\n",
              "      <td>448.268586</td>\n",
              "      <td>47063.281917</td>\n",
              "      <td>1.026374e+05</td>\n",
              "      <td>16.878175</td>\n",
              "      <td>155.399415</td>\n",
              "      <td>45.272333</td>\n",
              "      <td>39.570725</td>\n",
              "      <td>...</td>\n",
              "      <td>48.453774</td>\n",
              "      <td>41.196324</td>\n",
              "      <td>36.252642</td>\n",
              "      <td>19.240072</td>\n",
              "      <td>83.645286</td>\n",
              "      <td>9.107978</td>\n",
              "      <td>1.253965</td>\n",
              "      <td>1.983523</td>\n",
              "      <td>51.243872</td>\n",
              "      <td>5.640306</td>\n",
              "    </tr>\n",
              "    <tr>\n",
              "      <th>std</th>\n",
              "      <td>1416.356223</td>\n",
              "      <td>504.134286</td>\n",
              "      <td>27.751511</td>\n",
              "      <td>54.560733</td>\n",
              "      <td>12040.090836</td>\n",
              "      <td>3.290592e+05</td>\n",
              "      <td>6.409087</td>\n",
              "      <td>529.628366</td>\n",
              "      <td>45.304480</td>\n",
              "      <td>5.226017</td>\n",
              "      <td>...</td>\n",
              "      <td>10.083006</td>\n",
              "      <td>9.447687</td>\n",
              "      <td>7.841741</td>\n",
              "      <td>6.113041</td>\n",
              "      <td>16.380025</td>\n",
              "      <td>14.534538</td>\n",
              "      <td>2.610276</td>\n",
              "      <td>3.517710</td>\n",
              "      <td>6.572814</td>\n",
              "      <td>1.985816</td>\n",
              "    </tr>\n",
              "    <tr>\n",
              "      <th>min</th>\n",
              "      <td>6.000000</td>\n",
              "      <td>3.000000</td>\n",
              "      <td>59.700000</td>\n",
              "      <td>201.300000</td>\n",
              "      <td>22640.000000</td>\n",
              "      <td>8.270000e+02</td>\n",
              "      <td>3.200000</td>\n",
              "      <td>0.000000</td>\n",
              "      <td>22.300000</td>\n",
              "      <td>22.400000</td>\n",
              "      <td>...</td>\n",
              "      <td>15.700000</td>\n",
              "      <td>13.500000</td>\n",
              "      <td>11.200000</td>\n",
              "      <td>2.600000</td>\n",
              "      <td>10.199155</td>\n",
              "      <td>0.000000</td>\n",
              "      <td>0.000000</td>\n",
              "      <td>0.000000</td>\n",
              "      <td>22.992490</td>\n",
              "      <td>0.000000</td>\n",
              "    </tr>\n",
              "    <tr>\n",
              "      <th>25%</th>\n",
              "      <td>76.000000</td>\n",
              "      <td>28.000000</td>\n",
              "      <td>161.200000</td>\n",
              "      <td>420.300000</td>\n",
              "      <td>38882.500000</td>\n",
              "      <td>1.168400e+04</td>\n",
              "      <td>12.150000</td>\n",
              "      <td>0.000000</td>\n",
              "      <td>37.700000</td>\n",
              "      <td>36.350000</td>\n",
              "      <td>...</td>\n",
              "      <td>41.000000</td>\n",
              "      <td>34.500000</td>\n",
              "      <td>30.900000</td>\n",
              "      <td>14.850000</td>\n",
              "      <td>77.296180</td>\n",
              "      <td>0.620675</td>\n",
              "      <td>0.254199</td>\n",
              "      <td>0.295172</td>\n",
              "      <td>47.763063</td>\n",
              "      <td>4.521419</td>\n",
              "    </tr>\n",
              "    <tr>\n",
              "      <th>50%</th>\n",
              "      <td>171.000000</td>\n",
              "      <td>61.000000</td>\n",
              "      <td>178.100000</td>\n",
              "      <td>453.549422</td>\n",
              "      <td>45207.000000</td>\n",
              "      <td>2.664300e+04</td>\n",
              "      <td>15.900000</td>\n",
              "      <td>0.000000</td>\n",
              "      <td>41.000000</td>\n",
              "      <td>39.600000</td>\n",
              "      <td>...</td>\n",
              "      <td>48.700000</td>\n",
              "      <td>41.100000</td>\n",
              "      <td>36.300000</td>\n",
              "      <td>18.800000</td>\n",
              "      <td>90.059774</td>\n",
              "      <td>2.247576</td>\n",
              "      <td>0.549812</td>\n",
              "      <td>0.826185</td>\n",
              "      <td>51.669941</td>\n",
              "      <td>5.381478</td>\n",
              "    </tr>\n",
              "    <tr>\n",
              "      <th>75%</th>\n",
              "      <td>518.000000</td>\n",
              "      <td>149.000000</td>\n",
              "      <td>195.200000</td>\n",
              "      <td>480.850000</td>\n",
              "      <td>52492.000000</td>\n",
              "      <td>6.867100e+04</td>\n",
              "      <td>20.400000</td>\n",
              "      <td>83.650776</td>\n",
              "      <td>44.000000</td>\n",
              "      <td>42.500000</td>\n",
              "      <td>...</td>\n",
              "      <td>55.600000</td>\n",
              "      <td>47.700000</td>\n",
              "      <td>41.550000</td>\n",
              "      <td>23.100000</td>\n",
              "      <td>95.451693</td>\n",
              "      <td>10.509732</td>\n",
              "      <td>1.221037</td>\n",
              "      <td>2.177960</td>\n",
              "      <td>55.395132</td>\n",
              "      <td>6.493677</td>\n",
              "    </tr>\n",
              "    <tr>\n",
              "      <th>max</th>\n",
              "      <td>38150.000000</td>\n",
              "      <td>14010.000000</td>\n",
              "      <td>362.800000</td>\n",
              "      <td>1206.900000</td>\n",
              "      <td>125635.000000</td>\n",
              "      <td>1.017029e+07</td>\n",
              "      <td>47.400000</td>\n",
              "      <td>9762.308998</td>\n",
              "      <td>624.000000</td>\n",
              "      <td>64.700000</td>\n",
              "      <td>...</td>\n",
              "      <td>78.900000</td>\n",
              "      <td>70.700000</td>\n",
              "      <td>65.100000</td>\n",
              "      <td>46.600000</td>\n",
              "      <td>100.000000</td>\n",
              "      <td>85.947799</td>\n",
              "      <td>42.619425</td>\n",
              "      <td>41.930251</td>\n",
              "      <td>78.075397</td>\n",
              "      <td>21.326165</td>\n",
              "    </tr>\n",
              "  </tbody>\n",
              "</table>\n",
              "<p>8 rows × 31 columns</p>\n",
              "</div>\n",
              "      <button class=\"colab-df-convert\" onclick=\"convertToInteractive('df-1ca0588f-815d-4037-8e02-c11fe7457f6b')\"\n",
              "              title=\"Convert this dataframe to an interactive table.\"\n",
              "              style=\"display:none;\">\n",
              "        \n",
              "  <svg xmlns=\"http://www.w3.org/2000/svg\" height=\"24px\"viewBox=\"0 0 24 24\"\n",
              "       width=\"24px\">\n",
              "    <path d=\"M0 0h24v24H0V0z\" fill=\"none\"/>\n",
              "    <path d=\"M18.56 5.44l.94 2.06.94-2.06 2.06-.94-2.06-.94-.94-2.06-.94 2.06-2.06.94zm-11 1L8.5 8.5l.94-2.06 2.06-.94-2.06-.94L8.5 2.5l-.94 2.06-2.06.94zm10 10l.94 2.06.94-2.06 2.06-.94-2.06-.94-.94-2.06-.94 2.06-2.06.94z\"/><path d=\"M17.41 7.96l-1.37-1.37c-.4-.4-.92-.59-1.43-.59-.52 0-1.04.2-1.43.59L10.3 9.45l-7.72 7.72c-.78.78-.78 2.05 0 2.83L4 21.41c.39.39.9.59 1.41.59.51 0 1.02-.2 1.41-.59l7.78-7.78 2.81-2.81c.8-.78.8-2.07 0-2.86zM5.41 20L4 18.59l7.72-7.72 1.47 1.35L5.41 20z\"/>\n",
              "  </svg>\n",
              "      </button>\n",
              "      \n",
              "  <style>\n",
              "    .colab-df-container {\n",
              "      display:flex;\n",
              "      flex-wrap:wrap;\n",
              "      gap: 12px;\n",
              "    }\n",
              "\n",
              "    .colab-df-convert {\n",
              "      background-color: #E8F0FE;\n",
              "      border: none;\n",
              "      border-radius: 50%;\n",
              "      cursor: pointer;\n",
              "      display: none;\n",
              "      fill: #1967D2;\n",
              "      height: 32px;\n",
              "      padding: 0 0 0 0;\n",
              "      width: 32px;\n",
              "    }\n",
              "\n",
              "    .colab-df-convert:hover {\n",
              "      background-color: #E2EBFA;\n",
              "      box-shadow: 0px 1px 2px rgba(60, 64, 67, 0.3), 0px 1px 3px 1px rgba(60, 64, 67, 0.15);\n",
              "      fill: #174EA6;\n",
              "    }\n",
              "\n",
              "    [theme=dark] .colab-df-convert {\n",
              "      background-color: #3B4455;\n",
              "      fill: #D2E3FC;\n",
              "    }\n",
              "\n",
              "    [theme=dark] .colab-df-convert:hover {\n",
              "      background-color: #434B5C;\n",
              "      box-shadow: 0px 1px 3px 1px rgba(0, 0, 0, 0.15);\n",
              "      filter: drop-shadow(0px 1px 2px rgba(0, 0, 0, 0.3));\n",
              "      fill: #FFFFFF;\n",
              "    }\n",
              "  </style>\n",
              "\n",
              "      <script>\n",
              "        const buttonEl =\n",
              "          document.querySelector('#df-1ca0588f-815d-4037-8e02-c11fe7457f6b button.colab-df-convert');\n",
              "        buttonEl.style.display =\n",
              "          google.colab.kernel.accessAllowed ? 'block' : 'none';\n",
              "\n",
              "        async function convertToInteractive(key) {\n",
              "          const element = document.querySelector('#df-1ca0588f-815d-4037-8e02-c11fe7457f6b');\n",
              "          const dataTable =\n",
              "            await google.colab.kernel.invokeFunction('convertToInteractive',\n",
              "                                                     [key], {});\n",
              "          if (!dataTable) return;\n",
              "\n",
              "          const docLinkHtml = 'Like what you see? Visit the ' +\n",
              "            '<a target=\"_blank\" href=https://colab.research.google.com/notebooks/data_table.ipynb>data table notebook</a>'\n",
              "            + ' to learn more about interactive tables.';\n",
              "          element.innerHTML = '';\n",
              "          dataTable['output_type'] = 'display_data';\n",
              "          await google.colab.output.renderOutput(dataTable, element);\n",
              "          const docLink = document.createElement('div');\n",
              "          docLink.innerHTML = docLinkHtml;\n",
              "          element.appendChild(docLink);\n",
              "        }\n",
              "      </script>\n",
              "    </div>\n",
              "  </div>\n",
              "  "
            ]
          },
          "metadata": {},
          "execution_count": 10
        }
      ],
      "source": [
        "#Checking descriptive statsitics of the dataframe\n",
        "data_csv.describe()"
      ]
    },
    {
      "cell_type": "markdown",
      "metadata": {
        "id": "KyjSKzE1RcIw"
      },
      "source": [
        "#Pre - processing data"
      ]
    },
    {
      "cell_type": "markdown",
      "metadata": {
        "id": "eDsZvgKTxDnl"
      },
      "source": [
        "Variables"
      ]
    },
    {
      "cell_type": "code",
      "execution_count": null,
      "metadata": {
        "colab": {
          "base_uri": "https://localhost:8080/",
          "height": 386
        },
        "id": "Xr5e2sKCpNge",
        "outputId": "8c2ecf13-e9f4-4693-cbc4-e52ccbef2e42"
      },
      "outputs": [
        {
          "data": {
            "text/html": [
              "\n",
              "  <div id=\"df-0c07bf68-8c1a-4a67-a1be-4dfa54867458\">\n",
              "    <div class=\"colab-df-container\">\n",
              "      <div>\n",
              "<style scoped>\n",
              "    .dataframe tbody tr th:only-of-type {\n",
              "        vertical-align: middle;\n",
              "    }\n",
              "\n",
              "    .dataframe tbody tr th {\n",
              "        vertical-align: top;\n",
              "    }\n",
              "\n",
              "    .dataframe thead th {\n",
              "        text-align: right;\n",
              "    }\n",
              "</style>\n",
              "<table border=\"1\" class=\"dataframe\">\n",
              "  <thead>\n",
              "    <tr style=\"text-align: right;\">\n",
              "      <th></th>\n",
              "      <th>avganncount</th>\n",
              "      <th>avgdeathsperyear</th>\n",
              "      <th>target_deathrate</th>\n",
              "      <th>incidencerate</th>\n",
              "      <th>medincome</th>\n",
              "      <th>popest2015</th>\n",
              "      <th>povertypercent</th>\n",
              "      <th>studypercap</th>\n",
              "      <th>binnedinc</th>\n",
              "      <th>medianage</th>\n",
              "      <th>...</th>\n",
              "      <th>pctpubliccoverage</th>\n",
              "      <th>pctpubliccoveragealone</th>\n",
              "      <th>pctwhite</th>\n",
              "      <th>pctblack</th>\n",
              "      <th>pctasian</th>\n",
              "      <th>pctotherrace</th>\n",
              "      <th>pctmarriedhouseholds</th>\n",
              "      <th>birthrate</th>\n",
              "      <th>Regions</th>\n",
              "      <th>States</th>\n",
              "    </tr>\n",
              "  </thead>\n",
              "  <tbody>\n",
              "    <tr>\n",
              "      <th>0</th>\n",
              "      <td>1397.0</td>\n",
              "      <td>469</td>\n",
              "      <td>164.9</td>\n",
              "      <td>489.8</td>\n",
              "      <td>61898</td>\n",
              "      <td>260131</td>\n",
              "      <td>11.2</td>\n",
              "      <td>499.748204</td>\n",
              "      <td>(61494.5, 125635]</td>\n",
              "      <td>39.3</td>\n",
              "      <td>...</td>\n",
              "      <td>32.9</td>\n",
              "      <td>14.0</td>\n",
              "      <td>81.780529</td>\n",
              "      <td>2.594728</td>\n",
              "      <td>4.821857</td>\n",
              "      <td>1.843479</td>\n",
              "      <td>52.856076</td>\n",
              "      <td>6.118831</td>\n",
              "      <td>Kitsap County</td>\n",
              "      <td>Washington</td>\n",
              "    </tr>\n",
              "    <tr>\n",
              "      <th>1</th>\n",
              "      <td>173.0</td>\n",
              "      <td>70</td>\n",
              "      <td>161.3</td>\n",
              "      <td>411.6</td>\n",
              "      <td>48127</td>\n",
              "      <td>43269</td>\n",
              "      <td>18.6</td>\n",
              "      <td>23.111234</td>\n",
              "      <td>(48021.6, 51046.4]</td>\n",
              "      <td>33.0</td>\n",
              "      <td>...</td>\n",
              "      <td>31.1</td>\n",
              "      <td>15.3</td>\n",
              "      <td>89.228509</td>\n",
              "      <td>0.969102</td>\n",
              "      <td>2.246233</td>\n",
              "      <td>3.741352</td>\n",
              "      <td>45.372500</td>\n",
              "      <td>4.333096</td>\n",
              "      <td>Kittitas County</td>\n",
              "      <td>Washington</td>\n",
              "    </tr>\n",
              "    <tr>\n",
              "      <th>2</th>\n",
              "      <td>102.0</td>\n",
              "      <td>50</td>\n",
              "      <td>174.7</td>\n",
              "      <td>349.7</td>\n",
              "      <td>49348</td>\n",
              "      <td>21026</td>\n",
              "      <td>14.6</td>\n",
              "      <td>47.560164</td>\n",
              "      <td>(48021.6, 51046.4]</td>\n",
              "      <td>45.0</td>\n",
              "      <td>...</td>\n",
              "      <td>42.1</td>\n",
              "      <td>21.1</td>\n",
              "      <td>90.922190</td>\n",
              "      <td>0.739673</td>\n",
              "      <td>0.465898</td>\n",
              "      <td>2.747358</td>\n",
              "      <td>54.444868</td>\n",
              "      <td>3.729488</td>\n",
              "      <td>Klickitat County</td>\n",
              "      <td>Washington</td>\n",
              "    </tr>\n",
              "    <tr>\n",
              "      <th>3</th>\n",
              "      <td>427.0</td>\n",
              "      <td>202</td>\n",
              "      <td>194.8</td>\n",
              "      <td>430.4</td>\n",
              "      <td>44243</td>\n",
              "      <td>75882</td>\n",
              "      <td>17.1</td>\n",
              "      <td>342.637253</td>\n",
              "      <td>(42724.4, 45201]</td>\n",
              "      <td>42.8</td>\n",
              "      <td>...</td>\n",
              "      <td>45.3</td>\n",
              "      <td>25.0</td>\n",
              "      <td>91.744686</td>\n",
              "      <td>0.782626</td>\n",
              "      <td>1.161359</td>\n",
              "      <td>1.362643</td>\n",
              "      <td>51.021514</td>\n",
              "      <td>4.603841</td>\n",
              "      <td>Lewis County</td>\n",
              "      <td>Washington</td>\n",
              "    </tr>\n",
              "    <tr>\n",
              "      <th>4</th>\n",
              "      <td>57.0</td>\n",
              "      <td>26</td>\n",
              "      <td>144.4</td>\n",
              "      <td>350.1</td>\n",
              "      <td>49955</td>\n",
              "      <td>10321</td>\n",
              "      <td>12.5</td>\n",
              "      <td>0.000000</td>\n",
              "      <td>(48021.6, 51046.4]</td>\n",
              "      <td>48.3</td>\n",
              "      <td>...</td>\n",
              "      <td>44.0</td>\n",
              "      <td>22.7</td>\n",
              "      <td>94.104024</td>\n",
              "      <td>0.270192</td>\n",
              "      <td>0.665830</td>\n",
              "      <td>0.492135</td>\n",
              "      <td>54.027460</td>\n",
              "      <td>6.796657</td>\n",
              "      <td>Lincoln County</td>\n",
              "      <td>Washington</td>\n",
              "    </tr>\n",
              "  </tbody>\n",
              "</table>\n",
              "<p>5 rows × 35 columns</p>\n",
              "</div>\n",
              "      <button class=\"colab-df-convert\" onclick=\"convertToInteractive('df-0c07bf68-8c1a-4a67-a1be-4dfa54867458')\"\n",
              "              title=\"Convert this dataframe to an interactive table.\"\n",
              "              style=\"display:none;\">\n",
              "        \n",
              "  <svg xmlns=\"http://www.w3.org/2000/svg\" height=\"24px\"viewBox=\"0 0 24 24\"\n",
              "       width=\"24px\">\n",
              "    <path d=\"M0 0h24v24H0V0z\" fill=\"none\"/>\n",
              "    <path d=\"M18.56 5.44l.94 2.06.94-2.06 2.06-.94-2.06-.94-.94-2.06-.94 2.06-2.06.94zm-11 1L8.5 8.5l.94-2.06 2.06-.94-2.06-.94L8.5 2.5l-.94 2.06-2.06.94zm10 10l.94 2.06.94-2.06 2.06-.94-2.06-.94-.94-2.06-.94 2.06-2.06.94z\"/><path d=\"M17.41 7.96l-1.37-1.37c-.4-.4-.92-.59-1.43-.59-.52 0-1.04.2-1.43.59L10.3 9.45l-7.72 7.72c-.78.78-.78 2.05 0 2.83L4 21.41c.39.39.9.59 1.41.59.51 0 1.02-.2 1.41-.59l7.78-7.78 2.81-2.81c.8-.78.8-2.07 0-2.86zM5.41 20L4 18.59l7.72-7.72 1.47 1.35L5.41 20z\"/>\n",
              "  </svg>\n",
              "      </button>\n",
              "      \n",
              "  <style>\n",
              "    .colab-df-container {\n",
              "      display:flex;\n",
              "      flex-wrap:wrap;\n",
              "      gap: 12px;\n",
              "    }\n",
              "\n",
              "    .colab-df-convert {\n",
              "      background-color: #E8F0FE;\n",
              "      border: none;\n",
              "      border-radius: 50%;\n",
              "      cursor: pointer;\n",
              "      display: none;\n",
              "      fill: #1967D2;\n",
              "      height: 32px;\n",
              "      padding: 0 0 0 0;\n",
              "      width: 32px;\n",
              "    }\n",
              "\n",
              "    .colab-df-convert:hover {\n",
              "      background-color: #E2EBFA;\n",
              "      box-shadow: 0px 1px 2px rgba(60, 64, 67, 0.3), 0px 1px 3px 1px rgba(60, 64, 67, 0.15);\n",
              "      fill: #174EA6;\n",
              "    }\n",
              "\n",
              "    [theme=dark] .colab-df-convert {\n",
              "      background-color: #3B4455;\n",
              "      fill: #D2E3FC;\n",
              "    }\n",
              "\n",
              "    [theme=dark] .colab-df-convert:hover {\n",
              "      background-color: #434B5C;\n",
              "      box-shadow: 0px 1px 3px 1px rgba(0, 0, 0, 0.15);\n",
              "      filter: drop-shadow(0px 1px 2px rgba(0, 0, 0, 0.3));\n",
              "      fill: #FFFFFF;\n",
              "    }\n",
              "  </style>\n",
              "\n",
              "      <script>\n",
              "        const buttonEl =\n",
              "          document.querySelector('#df-0c07bf68-8c1a-4a67-a1be-4dfa54867458 button.colab-df-convert');\n",
              "        buttonEl.style.display =\n",
              "          google.colab.kernel.accessAllowed ? 'block' : 'none';\n",
              "\n",
              "        async function convertToInteractive(key) {\n",
              "          const element = document.querySelector('#df-0c07bf68-8c1a-4a67-a1be-4dfa54867458');\n",
              "          const dataTable =\n",
              "            await google.colab.kernel.invokeFunction('convertToInteractive',\n",
              "                                                     [key], {});\n",
              "          if (!dataTable) return;\n",
              "\n",
              "          const docLinkHtml = 'Like what you see? Visit the ' +\n",
              "            '<a target=\"_blank\" href=https://colab.research.google.com/notebooks/data_table.ipynb>data table notebook</a>'\n",
              "            + ' to learn more about interactive tables.';\n",
              "          element.innerHTML = '';\n",
              "          dataTable['output_type'] = 'display_data';\n",
              "          await google.colab.output.renderOutput(dataTable, element);\n",
              "          const docLink = document.createElement('div');\n",
              "          docLink.innerHTML = docLinkHtml;\n",
              "          element.appendChild(docLink);\n",
              "        }\n",
              "      </script>\n",
              "    </div>\n",
              "  </div>\n",
              "  "
            ],
            "text/plain": [
              "   avganncount  avgdeathsperyear  target_deathrate  incidencerate  medincome  \\\n",
              "0       1397.0               469             164.9          489.8      61898   \n",
              "1        173.0                70             161.3          411.6      48127   \n",
              "2        102.0                50             174.7          349.7      49348   \n",
              "3        427.0               202             194.8          430.4      44243   \n",
              "4         57.0                26             144.4          350.1      49955   \n",
              "\n",
              "   popest2015  povertypercent  studypercap           binnedinc  medianage  \\\n",
              "0      260131            11.2   499.748204   (61494.5, 125635]       39.3   \n",
              "1       43269            18.6    23.111234  (48021.6, 51046.4]       33.0   \n",
              "2       21026            14.6    47.560164  (48021.6, 51046.4]       45.0   \n",
              "3       75882            17.1   342.637253    (42724.4, 45201]       42.8   \n",
              "4       10321            12.5     0.000000  (48021.6, 51046.4]       48.3   \n",
              "\n",
              "   ...  pctpubliccoverage  pctpubliccoveragealone   pctwhite  pctblack  \\\n",
              "0  ...               32.9                    14.0  81.780529  2.594728   \n",
              "1  ...               31.1                    15.3  89.228509  0.969102   \n",
              "2  ...               42.1                    21.1  90.922190  0.739673   \n",
              "3  ...               45.3                    25.0  91.744686  0.782626   \n",
              "4  ...               44.0                    22.7  94.104024  0.270192   \n",
              "\n",
              "   pctasian  pctotherrace  pctmarriedhouseholds  birthrate           Regions  \\\n",
              "0  4.821857      1.843479             52.856076   6.118831     Kitsap County   \n",
              "1  2.246233      3.741352             45.372500   4.333096   Kittitas County   \n",
              "2  0.465898      2.747358             54.444868   3.729488  Klickitat County   \n",
              "3  1.161359      1.362643             51.021514   4.603841      Lewis County   \n",
              "4  0.665830      0.492135             54.027460   6.796657    Lincoln County   \n",
              "\n",
              "        States  \n",
              "0   Washington  \n",
              "1   Washington  \n",
              "2   Washington  \n",
              "3   Washington  \n",
              "4   Washington  \n",
              "\n",
              "[5 rows x 35 columns]"
            ]
          },
          "execution_count": 10,
          "metadata": {},
          "output_type": "execute_result"
        }
      ],
      "source": [
        "#Splitting one columns into two and adding those to the dataframe\n",
        "#https://www.geeksforgeeks.org/split-a-text-column-into-two-columns-in-pandas-dataframe/\n",
        "data_csv[['Regions','States']] = data_csv.geography.apply(\n",
        "   lambda x: pd.Series(str(x).split(\",\")))\n",
        "   \n",
        "data_csv.head()"
      ]
    },
    {
      "cell_type": "code",
      "execution_count": null,
      "metadata": {
        "colab": {
          "base_uri": "https://localhost:8080/",
          "height": 206
        },
        "id": "A4lIsst-pSK2",
        "outputId": "29b24777-2245-44c7-8f83-de12d6a70983"
      },
      "outputs": [
        {
          "data": {
            "text/html": [
              "\n",
              "  <div id=\"df-926db78d-4767-4228-bc86-143f161bcd11\">\n",
              "    <div class=\"colab-df-container\">\n",
              "      <div>\n",
              "<style scoped>\n",
              "    .dataframe tbody tr th:only-of-type {\n",
              "        vertical-align: middle;\n",
              "    }\n",
              "\n",
              "    .dataframe tbody tr th {\n",
              "        vertical-align: top;\n",
              "    }\n",
              "\n",
              "    .dataframe thead th {\n",
              "        text-align: right;\n",
              "    }\n",
              "</style>\n",
              "<table border=\"1\" class=\"dataframe\">\n",
              "  <thead>\n",
              "    <tr style=\"text-align: right;\">\n",
              "      <th></th>\n",
              "      <th>avganncount</th>\n",
              "      <th>avgdeathsperyear</th>\n",
              "      <th>target_deathrate</th>\n",
              "      <th>medincome</th>\n",
              "      <th>povertypercent</th>\n",
              "      <th>medianagemale</th>\n",
              "      <th>medianagefemale</th>\n",
              "      <th>pctwhite</th>\n",
              "      <th>pctblack</th>\n",
              "      <th>pctasian</th>\n",
              "      <th>Regions</th>\n",
              "      <th>States</th>\n",
              "    </tr>\n",
              "  </thead>\n",
              "  <tbody>\n",
              "    <tr>\n",
              "      <th>0</th>\n",
              "      <td>1397.0</td>\n",
              "      <td>469</td>\n",
              "      <td>164.9</td>\n",
              "      <td>61898</td>\n",
              "      <td>11.2</td>\n",
              "      <td>36.9</td>\n",
              "      <td>41.7</td>\n",
              "      <td>81.780529</td>\n",
              "      <td>2.594728</td>\n",
              "      <td>4.821857</td>\n",
              "      <td>Kitsap County</td>\n",
              "      <td>Washington</td>\n",
              "    </tr>\n",
              "    <tr>\n",
              "      <th>1</th>\n",
              "      <td>173.0</td>\n",
              "      <td>70</td>\n",
              "      <td>161.3</td>\n",
              "      <td>48127</td>\n",
              "      <td>18.6</td>\n",
              "      <td>32.2</td>\n",
              "      <td>33.7</td>\n",
              "      <td>89.228509</td>\n",
              "      <td>0.969102</td>\n",
              "      <td>2.246233</td>\n",
              "      <td>Kittitas County</td>\n",
              "      <td>Washington</td>\n",
              "    </tr>\n",
              "    <tr>\n",
              "      <th>2</th>\n",
              "      <td>102.0</td>\n",
              "      <td>50</td>\n",
              "      <td>174.7</td>\n",
              "      <td>49348</td>\n",
              "      <td>14.6</td>\n",
              "      <td>44.0</td>\n",
              "      <td>45.8</td>\n",
              "      <td>90.922190</td>\n",
              "      <td>0.739673</td>\n",
              "      <td>0.465898</td>\n",
              "      <td>Klickitat County</td>\n",
              "      <td>Washington</td>\n",
              "    </tr>\n",
              "    <tr>\n",
              "      <th>3</th>\n",
              "      <td>427.0</td>\n",
              "      <td>202</td>\n",
              "      <td>194.8</td>\n",
              "      <td>44243</td>\n",
              "      <td>17.1</td>\n",
              "      <td>42.2</td>\n",
              "      <td>43.4</td>\n",
              "      <td>91.744686</td>\n",
              "      <td>0.782626</td>\n",
              "      <td>1.161359</td>\n",
              "      <td>Lewis County</td>\n",
              "      <td>Washington</td>\n",
              "    </tr>\n",
              "    <tr>\n",
              "      <th>4</th>\n",
              "      <td>57.0</td>\n",
              "      <td>26</td>\n",
              "      <td>144.4</td>\n",
              "      <td>49955</td>\n",
              "      <td>12.5</td>\n",
              "      <td>47.8</td>\n",
              "      <td>48.9</td>\n",
              "      <td>94.104024</td>\n",
              "      <td>0.270192</td>\n",
              "      <td>0.665830</td>\n",
              "      <td>Lincoln County</td>\n",
              "      <td>Washington</td>\n",
              "    </tr>\n",
              "  </tbody>\n",
              "</table>\n",
              "</div>\n",
              "      <button class=\"colab-df-convert\" onclick=\"convertToInteractive('df-926db78d-4767-4228-bc86-143f161bcd11')\"\n",
              "              title=\"Convert this dataframe to an interactive table.\"\n",
              "              style=\"display:none;\">\n",
              "        \n",
              "  <svg xmlns=\"http://www.w3.org/2000/svg\" height=\"24px\"viewBox=\"0 0 24 24\"\n",
              "       width=\"24px\">\n",
              "    <path d=\"M0 0h24v24H0V0z\" fill=\"none\"/>\n",
              "    <path d=\"M18.56 5.44l.94 2.06.94-2.06 2.06-.94-2.06-.94-.94-2.06-.94 2.06-2.06.94zm-11 1L8.5 8.5l.94-2.06 2.06-.94-2.06-.94L8.5 2.5l-.94 2.06-2.06.94zm10 10l.94 2.06.94-2.06 2.06-.94-2.06-.94-.94-2.06-.94 2.06-2.06.94z\"/><path d=\"M17.41 7.96l-1.37-1.37c-.4-.4-.92-.59-1.43-.59-.52 0-1.04.2-1.43.59L10.3 9.45l-7.72 7.72c-.78.78-.78 2.05 0 2.83L4 21.41c.39.39.9.59 1.41.59.51 0 1.02-.2 1.41-.59l7.78-7.78 2.81-2.81c.8-.78.8-2.07 0-2.86zM5.41 20L4 18.59l7.72-7.72 1.47 1.35L5.41 20z\"/>\n",
              "  </svg>\n",
              "      </button>\n",
              "      \n",
              "  <style>\n",
              "    .colab-df-container {\n",
              "      display:flex;\n",
              "      flex-wrap:wrap;\n",
              "      gap: 12px;\n",
              "    }\n",
              "\n",
              "    .colab-df-convert {\n",
              "      background-color: #E8F0FE;\n",
              "      border: none;\n",
              "      border-radius: 50%;\n",
              "      cursor: pointer;\n",
              "      display: none;\n",
              "      fill: #1967D2;\n",
              "      height: 32px;\n",
              "      padding: 0 0 0 0;\n",
              "      width: 32px;\n",
              "    }\n",
              "\n",
              "    .colab-df-convert:hover {\n",
              "      background-color: #E2EBFA;\n",
              "      box-shadow: 0px 1px 2px rgba(60, 64, 67, 0.3), 0px 1px 3px 1px rgba(60, 64, 67, 0.15);\n",
              "      fill: #174EA6;\n",
              "    }\n",
              "\n",
              "    [theme=dark] .colab-df-convert {\n",
              "      background-color: #3B4455;\n",
              "      fill: #D2E3FC;\n",
              "    }\n",
              "\n",
              "    [theme=dark] .colab-df-convert:hover {\n",
              "      background-color: #434B5C;\n",
              "      box-shadow: 0px 1px 3px 1px rgba(0, 0, 0, 0.15);\n",
              "      filter: drop-shadow(0px 1px 2px rgba(0, 0, 0, 0.3));\n",
              "      fill: #FFFFFF;\n",
              "    }\n",
              "  </style>\n",
              "\n",
              "      <script>\n",
              "        const buttonEl =\n",
              "          document.querySelector('#df-926db78d-4767-4228-bc86-143f161bcd11 button.colab-df-convert');\n",
              "        buttonEl.style.display =\n",
              "          google.colab.kernel.accessAllowed ? 'block' : 'none';\n",
              "\n",
              "        async function convertToInteractive(key) {\n",
              "          const element = document.querySelector('#df-926db78d-4767-4228-bc86-143f161bcd11');\n",
              "          const dataTable =\n",
              "            await google.colab.kernel.invokeFunction('convertToInteractive',\n",
              "                                                     [key], {});\n",
              "          if (!dataTable) return;\n",
              "\n",
              "          const docLinkHtml = 'Like what you see? Visit the ' +\n",
              "            '<a target=\"_blank\" href=https://colab.research.google.com/notebooks/data_table.ipynb>data table notebook</a>'\n",
              "            + ' to learn more about interactive tables.';\n",
              "          element.innerHTML = '';\n",
              "          dataTable['output_type'] = 'display_data';\n",
              "          await google.colab.output.renderOutput(dataTable, element);\n",
              "          const docLink = document.createElement('div');\n",
              "          docLink.innerHTML = docLinkHtml;\n",
              "          element.appendChild(docLink);\n",
              "        }\n",
              "      </script>\n",
              "    </div>\n",
              "  </div>\n",
              "  "
            ],
            "text/plain": [
              "   avganncount  avgdeathsperyear  target_deathrate  medincome  povertypercent  \\\n",
              "0       1397.0               469             164.9      61898            11.2   \n",
              "1        173.0                70             161.3      48127            18.6   \n",
              "2        102.0                50             174.7      49348            14.6   \n",
              "3        427.0               202             194.8      44243            17.1   \n",
              "4         57.0                26             144.4      49955            12.5   \n",
              "\n",
              "   medianagemale  medianagefemale   pctwhite  pctblack  pctasian  \\\n",
              "0           36.9             41.7  81.780529  2.594728  4.821857   \n",
              "1           32.2             33.7  89.228509  0.969102  2.246233   \n",
              "2           44.0             45.8  90.922190  0.739673  0.465898   \n",
              "3           42.2             43.4  91.744686  0.782626  1.161359   \n",
              "4           47.8             48.9  94.104024  0.270192  0.665830   \n",
              "\n",
              "            Regions       States  \n",
              "0     Kitsap County   Washington  \n",
              "1   Kittitas County   Washington  \n",
              "2  Klickitat County   Washington  \n",
              "3      Lewis County   Washington  \n",
              "4    Lincoln County   Washington  "
            ]
          },
          "execution_count": 12,
          "metadata": {},
          "output_type": "execute_result"
        }
      ],
      "source": [
        "#Removing not needed fields\n",
        "transformed_df = data_csv.drop(['incidencerate', 'popest2015', 'studypercap', 'binnedinc',\n",
        "       'medianage','percentmarried', 'pctnohs18_24', 'pcths18_24', 'pctsomecol18_24',\n",
        "       'pctbachdeg18_24', 'pcths25_over', 'pctbachdeg25_over',\n",
        "       'pctemployed16_over', 'pctunemployed16_over', 'pctprivatecoverage',\n",
        "       'pctprivatecoveragealone', 'pctempprivcoverage', 'pctpubliccoverage',\n",
        "       'pctpubliccoveragealone',\n",
        "       'pctotherrace', 'pctmarriedhouseholds', 'birthrate','geography'], axis=1)\n",
        "\n",
        "transformed_df.head()\n"
      ]
    },
    {
      "cell_type": "code",
      "execution_count": null,
      "metadata": {
        "colab": {
          "base_uri": "https://localhost:8080/"
        },
        "id": "-segV2skprIx",
        "outputId": "8f198cb1-1de4-44cb-e2c5-30584c823041"
      },
      "outputs": [
        {
          "name": "stdout",
          "output_type": "stream",
          "text": [
            "<class 'pandas.core.frame.DataFrame'>\n",
            "RangeIndex: 3047 entries, 0 to 3046\n",
            "Data columns (total 12 columns):\n",
            " #   Column            Non-Null Count  Dtype  \n",
            "---  ------            --------------  -----  \n",
            " 0   avganncount       3047 non-null   float64\n",
            " 1   avgdeathsperyear  3047 non-null   int64  \n",
            " 2   target_deathrate  3047 non-null   float64\n",
            " 3   medincome         3047 non-null   int64  \n",
            " 4   povertypercent    3047 non-null   float64\n",
            " 5   medianagemale     3047 non-null   float64\n",
            " 6   medianagefemale   3047 non-null   float64\n",
            " 7   pctwhite          3047 non-null   float64\n",
            " 8   pctblack          3047 non-null   float64\n",
            " 9   pctasian          3047 non-null   float64\n",
            " 10  Regions           3047 non-null   object \n",
            " 11  States            3047 non-null   object \n",
            "dtypes: float64(8), int64(2), object(2)\n",
            "memory usage: 285.8+ KB\n"
          ]
        }
      ],
      "source": [
        "transformed_df.info()"
      ]
    },
    {
      "cell_type": "code",
      "execution_count": null,
      "metadata": {
        "colab": {
          "base_uri": "https://localhost:8080/",
          "height": 206
        },
        "id": "BQq7_iIVp3IN",
        "outputId": "25e40bf2-7397-4604-d4fa-47325c608e23"
      },
      "outputs": [
        {
          "data": {
            "text/html": [
              "\n",
              "  <div id=\"df-4b86872b-a267-4c4f-9d83-475120f326a9\">\n",
              "    <div class=\"colab-df-container\">\n",
              "      <div>\n",
              "<style scoped>\n",
              "    .dataframe tbody tr th:only-of-type {\n",
              "        vertical-align: middle;\n",
              "    }\n",
              "\n",
              "    .dataframe tbody tr th {\n",
              "        vertical-align: top;\n",
              "    }\n",
              "\n",
              "    .dataframe thead th {\n",
              "        text-align: right;\n",
              "    }\n",
              "</style>\n",
              "<table border=\"1\" class=\"dataframe\">\n",
              "  <thead>\n",
              "    <tr style=\"text-align: right;\">\n",
              "      <th></th>\n",
              "      <th>Avg_cases</th>\n",
              "      <th>Avg_deaths</th>\n",
              "      <th>Mean_pc_deaths</th>\n",
              "      <th>Avg_income</th>\n",
              "      <th>Poverty_%</th>\n",
              "      <th>Avg_age_male</th>\n",
              "      <th>Avg_age_female</th>\n",
              "      <th>White_eth_%</th>\n",
              "      <th>Black_eth_%</th>\n",
              "      <th>Asian_eth_%</th>\n",
              "      <th>Regions</th>\n",
              "      <th>States</th>\n",
              "    </tr>\n",
              "  </thead>\n",
              "  <tbody>\n",
              "    <tr>\n",
              "      <th>0</th>\n",
              "      <td>1397.0</td>\n",
              "      <td>469</td>\n",
              "      <td>164.9</td>\n",
              "      <td>61898</td>\n",
              "      <td>11.2</td>\n",
              "      <td>36.9</td>\n",
              "      <td>41.7</td>\n",
              "      <td>81.780529</td>\n",
              "      <td>2.594728</td>\n",
              "      <td>4.821857</td>\n",
              "      <td>Kitsap County</td>\n",
              "      <td>Washington</td>\n",
              "    </tr>\n",
              "    <tr>\n",
              "      <th>1</th>\n",
              "      <td>173.0</td>\n",
              "      <td>70</td>\n",
              "      <td>161.3</td>\n",
              "      <td>48127</td>\n",
              "      <td>18.6</td>\n",
              "      <td>32.2</td>\n",
              "      <td>33.7</td>\n",
              "      <td>89.228509</td>\n",
              "      <td>0.969102</td>\n",
              "      <td>2.246233</td>\n",
              "      <td>Kittitas County</td>\n",
              "      <td>Washington</td>\n",
              "    </tr>\n",
              "    <tr>\n",
              "      <th>2</th>\n",
              "      <td>102.0</td>\n",
              "      <td>50</td>\n",
              "      <td>174.7</td>\n",
              "      <td>49348</td>\n",
              "      <td>14.6</td>\n",
              "      <td>44.0</td>\n",
              "      <td>45.8</td>\n",
              "      <td>90.922190</td>\n",
              "      <td>0.739673</td>\n",
              "      <td>0.465898</td>\n",
              "      <td>Klickitat County</td>\n",
              "      <td>Washington</td>\n",
              "    </tr>\n",
              "    <tr>\n",
              "      <th>3</th>\n",
              "      <td>427.0</td>\n",
              "      <td>202</td>\n",
              "      <td>194.8</td>\n",
              "      <td>44243</td>\n",
              "      <td>17.1</td>\n",
              "      <td>42.2</td>\n",
              "      <td>43.4</td>\n",
              "      <td>91.744686</td>\n",
              "      <td>0.782626</td>\n",
              "      <td>1.161359</td>\n",
              "      <td>Lewis County</td>\n",
              "      <td>Washington</td>\n",
              "    </tr>\n",
              "    <tr>\n",
              "      <th>4</th>\n",
              "      <td>57.0</td>\n",
              "      <td>26</td>\n",
              "      <td>144.4</td>\n",
              "      <td>49955</td>\n",
              "      <td>12.5</td>\n",
              "      <td>47.8</td>\n",
              "      <td>48.9</td>\n",
              "      <td>94.104024</td>\n",
              "      <td>0.270192</td>\n",
              "      <td>0.665830</td>\n",
              "      <td>Lincoln County</td>\n",
              "      <td>Washington</td>\n",
              "    </tr>\n",
              "  </tbody>\n",
              "</table>\n",
              "</div>\n",
              "      <button class=\"colab-df-convert\" onclick=\"convertToInteractive('df-4b86872b-a267-4c4f-9d83-475120f326a9')\"\n",
              "              title=\"Convert this dataframe to an interactive table.\"\n",
              "              style=\"display:none;\">\n",
              "        \n",
              "  <svg xmlns=\"http://www.w3.org/2000/svg\" height=\"24px\"viewBox=\"0 0 24 24\"\n",
              "       width=\"24px\">\n",
              "    <path d=\"M0 0h24v24H0V0z\" fill=\"none\"/>\n",
              "    <path d=\"M18.56 5.44l.94 2.06.94-2.06 2.06-.94-2.06-.94-.94-2.06-.94 2.06-2.06.94zm-11 1L8.5 8.5l.94-2.06 2.06-.94-2.06-.94L8.5 2.5l-.94 2.06-2.06.94zm10 10l.94 2.06.94-2.06 2.06-.94-2.06-.94-.94-2.06-.94 2.06-2.06.94z\"/><path d=\"M17.41 7.96l-1.37-1.37c-.4-.4-.92-.59-1.43-.59-.52 0-1.04.2-1.43.59L10.3 9.45l-7.72 7.72c-.78.78-.78 2.05 0 2.83L4 21.41c.39.39.9.59 1.41.59.51 0 1.02-.2 1.41-.59l7.78-7.78 2.81-2.81c.8-.78.8-2.07 0-2.86zM5.41 20L4 18.59l7.72-7.72 1.47 1.35L5.41 20z\"/>\n",
              "  </svg>\n",
              "      </button>\n",
              "      \n",
              "  <style>\n",
              "    .colab-df-container {\n",
              "      display:flex;\n",
              "      flex-wrap:wrap;\n",
              "      gap: 12px;\n",
              "    }\n",
              "\n",
              "    .colab-df-convert {\n",
              "      background-color: #E8F0FE;\n",
              "      border: none;\n",
              "      border-radius: 50%;\n",
              "      cursor: pointer;\n",
              "      display: none;\n",
              "      fill: #1967D2;\n",
              "      height: 32px;\n",
              "      padding: 0 0 0 0;\n",
              "      width: 32px;\n",
              "    }\n",
              "\n",
              "    .colab-df-convert:hover {\n",
              "      background-color: #E2EBFA;\n",
              "      box-shadow: 0px 1px 2px rgba(60, 64, 67, 0.3), 0px 1px 3px 1px rgba(60, 64, 67, 0.15);\n",
              "      fill: #174EA6;\n",
              "    }\n",
              "\n",
              "    [theme=dark] .colab-df-convert {\n",
              "      background-color: #3B4455;\n",
              "      fill: #D2E3FC;\n",
              "    }\n",
              "\n",
              "    [theme=dark] .colab-df-convert:hover {\n",
              "      background-color: #434B5C;\n",
              "      box-shadow: 0px 1px 3px 1px rgba(0, 0, 0, 0.15);\n",
              "      filter: drop-shadow(0px 1px 2px rgba(0, 0, 0, 0.3));\n",
              "      fill: #FFFFFF;\n",
              "    }\n",
              "  </style>\n",
              "\n",
              "      <script>\n",
              "        const buttonEl =\n",
              "          document.querySelector('#df-4b86872b-a267-4c4f-9d83-475120f326a9 button.colab-df-convert');\n",
              "        buttonEl.style.display =\n",
              "          google.colab.kernel.accessAllowed ? 'block' : 'none';\n",
              "\n",
              "        async function convertToInteractive(key) {\n",
              "          const element = document.querySelector('#df-4b86872b-a267-4c4f-9d83-475120f326a9');\n",
              "          const dataTable =\n",
              "            await google.colab.kernel.invokeFunction('convertToInteractive',\n",
              "                                                     [key], {});\n",
              "          if (!dataTable) return;\n",
              "\n",
              "          const docLinkHtml = 'Like what you see? Visit the ' +\n",
              "            '<a target=\"_blank\" href=https://colab.research.google.com/notebooks/data_table.ipynb>data table notebook</a>'\n",
              "            + ' to learn more about interactive tables.';\n",
              "          element.innerHTML = '';\n",
              "          dataTable['output_type'] = 'display_data';\n",
              "          await google.colab.output.renderOutput(dataTable, element);\n",
              "          const docLink = document.createElement('div');\n",
              "          docLink.innerHTML = docLinkHtml;\n",
              "          element.appendChild(docLink);\n",
              "        }\n",
              "      </script>\n",
              "    </div>\n",
              "  </div>\n",
              "  "
            ],
            "text/plain": [
              "   Avg_cases  Avg_deaths  Mean_pc_deaths  Avg_income  Poverty_%  Avg_age_male  \\\n",
              "0     1397.0         469           164.9       61898       11.2          36.9   \n",
              "1      173.0          70           161.3       48127       18.6          32.2   \n",
              "2      102.0          50           174.7       49348       14.6          44.0   \n",
              "3      427.0         202           194.8       44243       17.1          42.2   \n",
              "4       57.0          26           144.4       49955       12.5          47.8   \n",
              "\n",
              "   Avg_age_female  White_eth_%  Black_eth_%  Asian_eth_%           Regions  \\\n",
              "0            41.7    81.780529     2.594728     4.821857     Kitsap County   \n",
              "1            33.7    89.228509     0.969102     2.246233   Kittitas County   \n",
              "2            45.8    90.922190     0.739673     0.465898  Klickitat County   \n",
              "3            43.4    91.744686     0.782626     1.161359      Lewis County   \n",
              "4            48.9    94.104024     0.270192     0.665830    Lincoln County   \n",
              "\n",
              "        States  \n",
              "0   Washington  \n",
              "1   Washington  \n",
              "2   Washington  \n",
              "3   Washington  \n",
              "4   Washington  "
            ]
          },
          "execution_count": 14,
          "metadata": {},
          "output_type": "execute_result"
        }
      ],
      "source": [
        "#Renaming fields\n",
        "new_columns_df = transformed_df.rename({'avganncount':'Avg_cases',\n",
        "                                       'avgdeathsperyear':'Avg_deaths',\n",
        "                                       'target_deathrate':'Mean_pc_deaths',\n",
        "                                       'medincome':'Avg_income',\n",
        "                                       'povertypercent':'Poverty_%',\n",
        "                                       'medianagemale':'Avg_age_male',\n",
        "                                       'medianagefemale':'Avg_age_female',\n",
        "                                       'pctwhite':'White_eth_%',\n",
        "                                       'pctblack':'Black_eth_%',\n",
        "                                       'pctasian':'Asian_eth_%'}, axis=1)\n",
        "new_columns_df.head()"
      ]
    },
    {
      "cell_type": "markdown",
      "metadata": {
        "id": "56eTSCJiw_E5"
      },
      "source": [
        "Missing values"
      ]
    },
    {
      "cell_type": "code",
      "execution_count": null,
      "metadata": {
        "colab": {
          "base_uri": "https://localhost:8080/"
        },
        "id": "zSoTuQpCUivY",
        "outputId": "650a3aea-2eeb-46f1-dc90-4045443ef5be"
      },
      "outputs": [
        {
          "name": "stdout",
          "output_type": "stream",
          "text": [
            "        Avg_cases  Avg_deaths  Mean_pc_deaths  Avg_income  Poverty_%  \\\n",
            "0     1397.000000         469           164.9       61898       11.2   \n",
            "2      102.000000          50           174.7       49348       14.6   \n",
            "5      428.000000         152           176.0       52313       15.6   \n",
            "6      250.000000          97           175.9       37782       23.2   \n",
            "8       88.000000          36           190.5       42579       22.3   \n",
            "...           ...         ...             ...         ...        ...   \n",
            "3039  1962.667684           9           208.3       49256       10.5   \n",
            "3040  1962.667684          12           215.9       36471       17.4   \n",
            "3041  1962.667684          48           146.4       49508       13.0   \n",
            "3042  1962.667684          15           149.6       46961       12.4   \n",
            "3045  1962.667684          52           175.0       50745       13.3   \n",
            "\n",
            "      Avg_age_male  Avg_age_female  White_eth_%  Black_eth_%  Asian_eth_%  \\\n",
            "0             36.9            41.7    81.780529     2.594728     4.821857   \n",
            "2             44.0            45.8    90.922190     0.739673     0.465898   \n",
            "5             43.5            48.0    84.882631     1.653205     1.538057   \n",
            "6             42.2            43.5    75.106455     0.616955     0.866157   \n",
            "8             48.4            49.8    91.787477     0.185071     0.208205   \n",
            "...            ...             ...          ...          ...          ...   \n",
            "3039          45.2            45.3    93.781344     0.902708     0.300903   \n",
            "3040          49.1            52.2    94.371972     0.782706     0.409989   \n",
            "3041          31.0            33.8    94.291726     1.145104     1.386542   \n",
            "3042          41.1            48.8    90.280811     3.837754     0.327613   \n",
            "3045          36.9            40.5    92.905681     1.176562     0.244632   \n",
            "\n",
            "                  Regions       States  \n",
            "0           Kitsap County   Washington  \n",
            "2        Klickitat County   Washington  \n",
            "5            Mason County   Washington  \n",
            "6         Okanogan County   Washington  \n",
            "8     Pend Oreille County   Washington  \n",
            "...                   ...          ...  \n",
            "3039       Edwards County       Kansas  \n",
            "3040           Elk County       Kansas  \n",
            "3041         Ellis County       Kansas  \n",
            "3042     Ellsworth County       Kansas  \n",
            "3045      Franklin County       Kansas  \n",
            "\n",
            "[2456 rows x 12 columns]\n"
          ]
        }
      ],
      "source": [
        "#Identifying missing values\n",
        "nan_rows  = new_columns_df.loc[data_csv.isna().any(axis=1)]\n",
        "print(nan_rows)"
      ]
    },
    {
      "cell_type": "code",
      "execution_count": null,
      "metadata": {
        "colab": {
          "base_uri": "https://localhost:8080/",
          "height": 372
        },
        "id": "OFGVteYbQUH2",
        "outputId": "c27fe0b6-1276-4531-9530-a71604749b6c"
      },
      "outputs": [
        {
          "data": {
            "text/plain": [
              "Text(0.5, 1.0, 'Missing values heatmap')"
            ]
          },
          "execution_count": 16,
          "metadata": {},
          "output_type": "execute_result"
        },
        {
          "data": {
            "image/png": "[encoded data removed]",
            "text/plain": [
              "<Figure size 432x288 with 1 Axes>"
            ]
          },
          "metadata": {},
          "output_type": "display_data"
        }
      ],
      "source": [
        "#Displaying missing values heatmap\n",
        "new_columns_df.isnull().sum()\n",
        "sns.heatmap(new_columns_df.isnull(), cbar = False).set_title(\"Missing values heatmap\")"
      ]
    },
    {
      "cell_type": "code",
      "execution_count": null,
      "metadata": {
        "colab": {
          "base_uri": "https://localhost:8080/",
          "height": 206
        },
        "id": "IAT-unRXWJ5k",
        "outputId": "4cefdaa0-e078-4a22-9d72-96c8a4facc2a"
      },
      "outputs": [
        {
          "data": {
            "text/html": [
              "\n",
              "  <div id=\"df-25c8304e-1d0a-4b65-b8f9-3c211f236302\">\n",
              "    <div class=\"colab-df-container\">\n",
              "      <div>\n",
              "<style scoped>\n",
              "    .dataframe tbody tr th:only-of-type {\n",
              "        vertical-align: middle;\n",
              "    }\n",
              "\n",
              "    .dataframe tbody tr th {\n",
              "        vertical-align: top;\n",
              "    }\n",
              "\n",
              "    .dataframe thead th {\n",
              "        text-align: right;\n",
              "    }\n",
              "</style>\n",
              "<table border=\"1\" class=\"dataframe\">\n",
              "  <thead>\n",
              "    <tr style=\"text-align: right;\">\n",
              "      <th></th>\n",
              "      <th>Avg_cases</th>\n",
              "      <th>Avg_deaths</th>\n",
              "      <th>Mean_pc_deaths</th>\n",
              "      <th>Avg_income</th>\n",
              "      <th>Poverty_%</th>\n",
              "      <th>Avg_age_male</th>\n",
              "      <th>Avg_age_female</th>\n",
              "      <th>White_eth_%</th>\n",
              "      <th>Black_eth_%</th>\n",
              "      <th>Asian_eth_%</th>\n",
              "      <th>Regions</th>\n",
              "      <th>States</th>\n",
              "    </tr>\n",
              "  </thead>\n",
              "  <tbody>\n",
              "    <tr>\n",
              "      <th>0</th>\n",
              "      <td>1397.0</td>\n",
              "      <td>469</td>\n",
              "      <td>164.9</td>\n",
              "      <td>61898</td>\n",
              "      <td>11.2</td>\n",
              "      <td>36.9</td>\n",
              "      <td>41.7</td>\n",
              "      <td>81.780529</td>\n",
              "      <td>2.594728</td>\n",
              "      <td>4.821857</td>\n",
              "      <td>Kitsap County</td>\n",
              "      <td>Washington</td>\n",
              "    </tr>\n",
              "    <tr>\n",
              "      <th>1</th>\n",
              "      <td>173.0</td>\n",
              "      <td>70</td>\n",
              "      <td>161.3</td>\n",
              "      <td>48127</td>\n",
              "      <td>18.6</td>\n",
              "      <td>32.2</td>\n",
              "      <td>33.7</td>\n",
              "      <td>89.228509</td>\n",
              "      <td>0.969102</td>\n",
              "      <td>2.246233</td>\n",
              "      <td>Kittitas County</td>\n",
              "      <td>Washington</td>\n",
              "    </tr>\n",
              "    <tr>\n",
              "      <th>2</th>\n",
              "      <td>102.0</td>\n",
              "      <td>50</td>\n",
              "      <td>174.7</td>\n",
              "      <td>49348</td>\n",
              "      <td>14.6</td>\n",
              "      <td>44.0</td>\n",
              "      <td>45.8</td>\n",
              "      <td>90.922190</td>\n",
              "      <td>0.739673</td>\n",
              "      <td>0.465898</td>\n",
              "      <td>Klickitat County</td>\n",
              "      <td>Washington</td>\n",
              "    </tr>\n",
              "    <tr>\n",
              "      <th>3</th>\n",
              "      <td>427.0</td>\n",
              "      <td>202</td>\n",
              "      <td>194.8</td>\n",
              "      <td>44243</td>\n",
              "      <td>17.1</td>\n",
              "      <td>42.2</td>\n",
              "      <td>43.4</td>\n",
              "      <td>91.744686</td>\n",
              "      <td>0.782626</td>\n",
              "      <td>1.161359</td>\n",
              "      <td>Lewis County</td>\n",
              "      <td>Washington</td>\n",
              "    </tr>\n",
              "    <tr>\n",
              "      <th>4</th>\n",
              "      <td>57.0</td>\n",
              "      <td>26</td>\n",
              "      <td>144.4</td>\n",
              "      <td>49955</td>\n",
              "      <td>12.5</td>\n",
              "      <td>47.8</td>\n",
              "      <td>48.9</td>\n",
              "      <td>94.104024</td>\n",
              "      <td>0.270192</td>\n",
              "      <td>0.665830</td>\n",
              "      <td>Lincoln County</td>\n",
              "      <td>Washington</td>\n",
              "    </tr>\n",
              "  </tbody>\n",
              "</table>\n",
              "</div>\n",
              "      <button class=\"colab-df-convert\" onclick=\"convertToInteractive('df-25c8304e-1d0a-4b65-b8f9-3c211f236302')\"\n",
              "              title=\"Convert this dataframe to an interactive table.\"\n",
              "              style=\"display:none;\">\n",
              "        \n",
              "  <svg xmlns=\"http://www.w3.org/2000/svg\" height=\"24px\"viewBox=\"0 0 24 24\"\n",
              "       width=\"24px\">\n",
              "    <path d=\"M0 0h24v24H0V0z\" fill=\"none\"/>\n",
              "    <path d=\"M18.56 5.44l.94 2.06.94-2.06 2.06-.94-2.06-.94-.94-2.06-.94 2.06-2.06.94zm-11 1L8.5 8.5l.94-2.06 2.06-.94-2.06-.94L8.5 2.5l-.94 2.06-2.06.94zm10 10l.94 2.06.94-2.06 2.06-.94-2.06-.94-.94-2.06-.94 2.06-2.06.94z\"/><path d=\"M17.41 7.96l-1.37-1.37c-.4-.4-.92-.59-1.43-.59-.52 0-1.04.2-1.43.59L10.3 9.45l-7.72 7.72c-.78.78-.78 2.05 0 2.83L4 21.41c.39.39.9.59 1.41.59.51 0 1.02-.2 1.41-.59l7.78-7.78 2.81-2.81c.8-.78.8-2.07 0-2.86zM5.41 20L4 18.59l7.72-7.72 1.47 1.35L5.41 20z\"/>\n",
              "  </svg>\n",
              "      </button>\n",
              "      \n",
              "  <style>\n",
              "    .colab-df-container {\n",
              "      display:flex;\n",
              "      flex-wrap:wrap;\n",
              "      gap: 12px;\n",
              "    }\n",
              "\n",
              "    .colab-df-convert {\n",
              "      background-color: #E8F0FE;\n",
              "      border: none;\n",
              "      border-radius: 50%;\n",
              "      cursor: pointer;\n",
              "      display: none;\n",
              "      fill: #1967D2;\n",
              "      height: 32px;\n",
              "      padding: 0 0 0 0;\n",
              "      width: 32px;\n",
              "    }\n",
              "\n",
              "    .colab-df-convert:hover {\n",
              "      background-color: #E2EBFA;\n",
              "      box-shadow: 0px 1px 2px rgba(60, 64, 67, 0.3), 0px 1px 3px 1px rgba(60, 64, 67, 0.15);\n",
              "      fill: #174EA6;\n",
              "    }\n",
              "\n",
              "    [theme=dark] .colab-df-convert {\n",
              "      background-color: #3B4455;\n",
              "      fill: #D2E3FC;\n",
              "    }\n",
              "\n",
              "    [theme=dark] .colab-df-convert:hover {\n",
              "      background-color: #434B5C;\n",
              "      box-shadow: 0px 1px 3px 1px rgba(0, 0, 0, 0.15);\n",
              "      filter: drop-shadow(0px 1px 2px rgba(0, 0, 0, 0.3));\n",
              "      fill: #FFFFFF;\n",
              "    }\n",
              "  </style>\n",
              "\n",
              "      <script>\n",
              "        const buttonEl =\n",
              "          document.querySelector('#df-25c8304e-1d0a-4b65-b8f9-3c211f236302 button.colab-df-convert');\n",
              "        buttonEl.style.display =\n",
              "          google.colab.kernel.accessAllowed ? 'block' : 'none';\n",
              "\n",
              "        async function convertToInteractive(key) {\n",
              "          const element = document.querySelector('#df-25c8304e-1d0a-4b65-b8f9-3c211f236302');\n",
              "          const dataTable =\n",
              "            await google.colab.kernel.invokeFunction('convertToInteractive',\n",
              "                                                     [key], {});\n",
              "          if (!dataTable) return;\n",
              "\n",
              "          const docLinkHtml = 'Like what you see? Visit the ' +\n",
              "            '<a target=\"_blank\" href=https://colab.research.google.com/notebooks/data_table.ipynb>data table notebook</a>'\n",
              "            + ' to learn more about interactive tables.';\n",
              "          element.innerHTML = '';\n",
              "          dataTable['output_type'] = 'display_data';\n",
              "          await google.colab.output.renderOutput(dataTable, element);\n",
              "          const docLink = document.createElement('div');\n",
              "          docLink.innerHTML = docLinkHtml;\n",
              "          element.appendChild(docLink);\n",
              "        }\n",
              "      </script>\n",
              "    </div>\n",
              "  </div>\n",
              "  "
            ],
            "text/plain": [
              "   Avg_cases  Avg_deaths  Mean_pc_deaths  Avg_income  Poverty_%  Avg_age_male  \\\n",
              "0     1397.0         469           164.9       61898       11.2          36.9   \n",
              "1      173.0          70           161.3       48127       18.6          32.2   \n",
              "2      102.0          50           174.7       49348       14.6          44.0   \n",
              "3      427.0         202           194.8       44243       17.1          42.2   \n",
              "4       57.0          26           144.4       49955       12.5          47.8   \n",
              "\n",
              "   Avg_age_female  White_eth_%  Black_eth_%  Asian_eth_%           Regions  \\\n",
              "0            41.7    81.780529     2.594728     4.821857     Kitsap County   \n",
              "1            33.7    89.228509     0.969102     2.246233   Kittitas County   \n",
              "2            45.8    90.922190     0.739673     0.465898  Klickitat County   \n",
              "3            43.4    91.744686     0.782626     1.161359      Lewis County   \n",
              "4            48.9    94.104024     0.270192     0.665830    Lincoln County   \n",
              "\n",
              "        States  \n",
              "0   Washington  \n",
              "1   Washington  \n",
              "2   Washington  \n",
              "3   Washington  \n",
              "4   Washington  "
            ]
          },
          "execution_count": 17,
          "metadata": {},
          "output_type": "execute_result"
        }
      ],
      "source": [
        "#Removing missing values\n",
        "new_columns_df.dropna(inplace = True)\n",
        "\n",
        "new_columns_df.head()"
      ]
    },
    {
      "cell_type": "code",
      "execution_count": null,
      "metadata": {
        "colab": {
          "base_uri": "https://localhost:8080/"
        },
        "id": "YjGankTVYL_7",
        "outputId": "1e783171-33e4-44ca-98c9-874dca1b5941"
      },
      "outputs": [
        {
          "name": "stdout",
          "output_type": "stream",
          "text": [
            "<class 'pandas.core.frame.DataFrame'>\n",
            "Int64Index: 3047 entries, 0 to 3046\n",
            "Data columns (total 12 columns):\n",
            " #   Column          Non-Null Count  Dtype  \n",
            "---  ------          --------------  -----  \n",
            " 0   Avg_cases       3047 non-null   float64\n",
            " 1   Avg_deaths      3047 non-null   int64  \n",
            " 2   Mean_pc_deaths  3047 non-null   float64\n",
            " 3   Avg_income      3047 non-null   int64  \n",
            " 4   Poverty_%       3047 non-null   float64\n",
            " 5   Avg_age_male    3047 non-null   float64\n",
            " 6   Avg_age_female  3047 non-null   float64\n",
            " 7   White_eth_%     3047 non-null   float64\n",
            " 8   Black_eth_%     3047 non-null   float64\n",
            " 9   Asian_eth_%     3047 non-null   float64\n",
            " 10  Regions         3047 non-null   object \n",
            " 11  States          3047 non-null   object \n",
            "dtypes: float64(8), int64(2), object(2)\n",
            "memory usage: 309.5+ KB\n"
          ]
        }
      ],
      "source": [
        "#Check summary information of the dataframe\n",
        "new_columns_df.info()"
      ]
    },
    {
      "cell_type": "code",
      "execution_count": null,
      "metadata": {
        "colab": {
          "base_uri": "https://localhost:8080/"
        },
        "id": "aWLN-bnqjN9D",
        "outputId": "ebaa1618-3f5d-4319-ceb2-527837ee85f3"
      },
      "outputs": [
        {
          "name": "stdout",
          "output_type": "stream",
          "text": [
            "In this dataset the Region field include: 1228 regions of the United States.\n"
          ]
        }
      ],
      "source": [
        "#Checking number of regions\n",
        "print('In this dataset the Region field include: ' + str(new_columns_df.Regions.duplicated().sum()) + ' regions of the United States.')"
      ]
    },
    {
      "cell_type": "code",
      "execution_count": null,
      "metadata": {
        "colab": {
          "base_uri": "https://localhost:8080/",
          "height": 300
        },
        "id": "l-1C76TE9gRD",
        "outputId": "f6e1743d-e2e3-4137-c25a-79a98c89114c"
      },
      "outputs": [
        {
          "data": {
            "text/html": [
              "\n",
              "  <div id=\"df-8ba103b3-b5ba-4aaf-ac85-27435ef26a01\">\n",
              "    <div class=\"colab-df-container\">\n",
              "      <div>\n",
              "<style scoped>\n",
              "    .dataframe tbody tr th:only-of-type {\n",
              "        vertical-align: middle;\n",
              "    }\n",
              "\n",
              "    .dataframe tbody tr th {\n",
              "        vertical-align: top;\n",
              "    }\n",
              "\n",
              "    .dataframe thead th {\n",
              "        text-align: right;\n",
              "    }\n",
              "</style>\n",
              "<table border=\"1\" class=\"dataframe\">\n",
              "  <thead>\n",
              "    <tr style=\"text-align: right;\">\n",
              "      <th></th>\n",
              "      <th>Avg_cases</th>\n",
              "      <th>Avg_deaths</th>\n",
              "      <th>Mean_pc_deaths</th>\n",
              "      <th>Avg_income</th>\n",
              "      <th>Poverty_%</th>\n",
              "      <th>Avg_age_male</th>\n",
              "      <th>Avg_age_female</th>\n",
              "      <th>White_eth_%</th>\n",
              "      <th>Black_eth_%</th>\n",
              "      <th>Asian_eth_%</th>\n",
              "    </tr>\n",
              "  </thead>\n",
              "  <tbody>\n",
              "    <tr>\n",
              "      <th>count</th>\n",
              "      <td>3047.000000</td>\n",
              "      <td>3047.000000</td>\n",
              "      <td>3047.000000</td>\n",
              "      <td>3047.000000</td>\n",
              "      <td>3047.000000</td>\n",
              "      <td>3047.000000</td>\n",
              "      <td>3047.000000</td>\n",
              "      <td>3047.000000</td>\n",
              "      <td>3047.000000</td>\n",
              "      <td>3047.000000</td>\n",
              "    </tr>\n",
              "    <tr>\n",
              "      <th>mean</th>\n",
              "      <td>606.338544</td>\n",
              "      <td>185.965868</td>\n",
              "      <td>178.664063</td>\n",
              "      <td>47063.281917</td>\n",
              "      <td>16.878175</td>\n",
              "      <td>39.570725</td>\n",
              "      <td>42.145323</td>\n",
              "      <td>83.645286</td>\n",
              "      <td>9.107978</td>\n",
              "      <td>1.253965</td>\n",
              "    </tr>\n",
              "    <tr>\n",
              "      <th>std</th>\n",
              "      <td>1416.356223</td>\n",
              "      <td>504.134286</td>\n",
              "      <td>27.751511</td>\n",
              "      <td>12040.090836</td>\n",
              "      <td>6.409087</td>\n",
              "      <td>5.226017</td>\n",
              "      <td>5.292849</td>\n",
              "      <td>16.380025</td>\n",
              "      <td>14.534538</td>\n",
              "      <td>2.610276</td>\n",
              "    </tr>\n",
              "    <tr>\n",
              "      <th>min</th>\n",
              "      <td>6.000000</td>\n",
              "      <td>3.000000</td>\n",
              "      <td>59.700000</td>\n",
              "      <td>22640.000000</td>\n",
              "      <td>3.200000</td>\n",
              "      <td>22.400000</td>\n",
              "      <td>22.300000</td>\n",
              "      <td>10.199155</td>\n",
              "      <td>0.000000</td>\n",
              "      <td>0.000000</td>\n",
              "    </tr>\n",
              "    <tr>\n",
              "      <th>25%</th>\n",
              "      <td>76.000000</td>\n",
              "      <td>28.000000</td>\n",
              "      <td>161.200000</td>\n",
              "      <td>38882.500000</td>\n",
              "      <td>12.150000</td>\n",
              "      <td>36.350000</td>\n",
              "      <td>39.100000</td>\n",
              "      <td>77.296180</td>\n",
              "      <td>0.620675</td>\n",
              "      <td>0.254199</td>\n",
              "    </tr>\n",
              "    <tr>\n",
              "      <th>50%</th>\n",
              "      <td>171.000000</td>\n",
              "      <td>61.000000</td>\n",
              "      <td>178.100000</td>\n",
              "      <td>45207.000000</td>\n",
              "      <td>15.900000</td>\n",
              "      <td>39.600000</td>\n",
              "      <td>42.400000</td>\n",
              "      <td>90.059774</td>\n",
              "      <td>2.247576</td>\n",
              "      <td>0.549812</td>\n",
              "    </tr>\n",
              "    <tr>\n",
              "      <th>75%</th>\n",
              "      <td>518.000000</td>\n",
              "      <td>149.000000</td>\n",
              "      <td>195.200000</td>\n",
              "      <td>52492.000000</td>\n",
              "      <td>20.400000</td>\n",
              "      <td>42.500000</td>\n",
              "      <td>45.300000</td>\n",
              "      <td>95.451693</td>\n",
              "      <td>10.509732</td>\n",
              "      <td>1.221037</td>\n",
              "    </tr>\n",
              "    <tr>\n",
              "      <th>max</th>\n",
              "      <td>38150.000000</td>\n",
              "      <td>14010.000000</td>\n",
              "      <td>362.800000</td>\n",
              "      <td>125635.000000</td>\n",
              "      <td>47.400000</td>\n",
              "      <td>64.700000</td>\n",
              "      <td>65.700000</td>\n",
              "      <td>100.000000</td>\n",
              "      <td>85.947799</td>\n",
              "      <td>42.619425</td>\n",
              "    </tr>\n",
              "  </tbody>\n",
              "</table>\n",
              "</div>\n",
              "      <button class=\"colab-df-convert\" onclick=\"convertToInteractive('df-8ba103b3-b5ba-4aaf-ac85-27435ef26a01')\"\n",
              "              title=\"Convert this dataframe to an interactive table.\"\n",
              "              style=\"display:none;\">\n",
              "        \n",
              "  <svg xmlns=\"http://www.w3.org/2000/svg\" height=\"24px\"viewBox=\"0 0 24 24\"\n",
              "       width=\"24px\">\n",
              "    <path d=\"M0 0h24v24H0V0z\" fill=\"none\"/>\n",
              "    <path d=\"M18.56 5.44l.94 2.06.94-2.06 2.06-.94-2.06-.94-.94-2.06-.94 2.06-2.06.94zm-11 1L8.5 8.5l.94-2.06 2.06-.94-2.06-.94L8.5 2.5l-.94 2.06-2.06.94zm10 10l.94 2.06.94-2.06 2.06-.94-2.06-.94-.94-2.06-.94 2.06-2.06.94z\"/><path d=\"M17.41 7.96l-1.37-1.37c-.4-.4-.92-.59-1.43-.59-.52 0-1.04.2-1.43.59L10.3 9.45l-7.72 7.72c-.78.78-.78 2.05 0 2.83L4 21.41c.39.39.9.59 1.41.59.51 0 1.02-.2 1.41-.59l7.78-7.78 2.81-2.81c.8-.78.8-2.07 0-2.86zM5.41 20L4 18.59l7.72-7.72 1.47 1.35L5.41 20z\"/>\n",
              "  </svg>\n",
              "      </button>\n",
              "      \n",
              "  <style>\n",
              "    .colab-df-container {\n",
              "      display:flex;\n",
              "      flex-wrap:wrap;\n",
              "      gap: 12px;\n",
              "    }\n",
              "\n",
              "    .colab-df-convert {\n",
              "      background-color: #E8F0FE;\n",
              "      border: none;\n",
              "      border-radius: 50%;\n",
              "      cursor: pointer;\n",
              "      display: none;\n",
              "      fill: #1967D2;\n",
              "      height: 32px;\n",
              "      padding: 0 0 0 0;\n",
              "      width: 32px;\n",
              "    }\n",
              "\n",
              "    .colab-df-convert:hover {\n",
              "      background-color: #E2EBFA;\n",
              "      box-shadow: 0px 1px 2px rgba(60, 64, 67, 0.3), 0px 1px 3px 1px rgba(60, 64, 67, 0.15);\n",
              "      fill: #174EA6;\n",
              "    }\n",
              "\n",
              "    [theme=dark] .colab-df-convert {\n",
              "      background-color: #3B4455;\n",
              "      fill: #D2E3FC;\n",
              "    }\n",
              "\n",
              "    [theme=dark] .colab-df-convert:hover {\n",
              "      background-color: #434B5C;\n",
              "      box-shadow: 0px 1px 3px 1px rgba(0, 0, 0, 0.15);\n",
              "      filter: drop-shadow(0px 1px 2px rgba(0, 0, 0, 0.3));\n",
              "      fill: #FFFFFF;\n",
              "    }\n",
              "  </style>\n",
              "\n",
              "      <script>\n",
              "        const buttonEl =\n",
              "          document.querySelector('#df-8ba103b3-b5ba-4aaf-ac85-27435ef26a01 button.colab-df-convert');\n",
              "        buttonEl.style.display =\n",
              "          google.colab.kernel.accessAllowed ? 'block' : 'none';\n",
              "\n",
              "        async function convertToInteractive(key) {\n",
              "          const element = document.querySelector('#df-8ba103b3-b5ba-4aaf-ac85-27435ef26a01');\n",
              "          const dataTable =\n",
              "            await google.colab.kernel.invokeFunction('convertToInteractive',\n",
              "                                                     [key], {});\n",
              "          if (!dataTable) return;\n",
              "\n",
              "          const docLinkHtml = 'Like what you see? Visit the ' +\n",
              "            '<a target=\"_blank\" href=https://colab.research.google.com/notebooks/data_table.ipynb>data table notebook</a>'\n",
              "            + ' to learn more about interactive tables.';\n",
              "          element.innerHTML = '';\n",
              "          dataTable['output_type'] = 'display_data';\n",
              "          await google.colab.output.renderOutput(dataTable, element);\n",
              "          const docLink = document.createElement('div');\n",
              "          docLink.innerHTML = docLinkHtml;\n",
              "          element.appendChild(docLink);\n",
              "        }\n",
              "      </script>\n",
              "    </div>\n",
              "  </div>\n",
              "  "
            ],
            "text/plain": [
              "          Avg_cases    Avg_deaths  Mean_pc_deaths     Avg_income    Poverty_%  \\\n",
              "count   3047.000000   3047.000000     3047.000000    3047.000000  3047.000000   \n",
              "mean     606.338544    185.965868      178.664063   47063.281917    16.878175   \n",
              "std     1416.356223    504.134286       27.751511   12040.090836     6.409087   \n",
              "min        6.000000      3.000000       59.700000   22640.000000     3.200000   \n",
              "25%       76.000000     28.000000      161.200000   38882.500000    12.150000   \n",
              "50%      171.000000     61.000000      178.100000   45207.000000    15.900000   \n",
              "75%      518.000000    149.000000      195.200000   52492.000000    20.400000   \n",
              "max    38150.000000  14010.000000      362.800000  125635.000000    47.400000   \n",
              "\n",
              "       Avg_age_male  Avg_age_female  White_eth_%  Black_eth_%  Asian_eth_%  \n",
              "count   3047.000000     3047.000000  3047.000000  3047.000000  3047.000000  \n",
              "mean      39.570725       42.145323    83.645286     9.107978     1.253965  \n",
              "std        5.226017        5.292849    16.380025    14.534538     2.610276  \n",
              "min       22.400000       22.300000    10.199155     0.000000     0.000000  \n",
              "25%       36.350000       39.100000    77.296180     0.620675     0.254199  \n",
              "50%       39.600000       42.400000    90.059774     2.247576     0.549812  \n",
              "75%       42.500000       45.300000    95.451693    10.509732     1.221037  \n",
              "max       64.700000       65.700000   100.000000    85.947799    42.619425  "
            ]
          },
          "execution_count": 20,
          "metadata": {},
          "output_type": "execute_result"
        }
      ],
      "source": [
        "#Checking descriptive statistics of the dataframe\n",
        "new_columns_df.describe()"
      ]
    },
    {
      "cell_type": "markdown",
      "metadata": {
        "id": "0iL7a3nF7-Fz"
      },
      "source": [
        "Identifying outliers"
      ]
    },
    {
      "cell_type": "code",
      "execution_count": null,
      "metadata": {
        "colab": {
          "base_uri": "https://localhost:8080/",
          "height": 287
        },
        "id": "O0LRmr_DnUr4",
        "outputId": "feefa218-f506-4ac6-da81-20b65df73c55"
      },
      "outputs": [
        {
          "data": {
            "text/plain": [
              "<matplotlib.axes._subplots.AxesSubplot at 0x7fc67b5afc50>"
            ]
          },
          "execution_count": 21,
          "metadata": {},
          "output_type": "execute_result"
        },
        {
          "data": {
            "image/png": "[encoded data removed]",
            "text/plain": [
              "<Figure size 432x288 with 1 Axes>"
            ]
          },
          "metadata": {},
          "output_type": "display_data"
        }
      ],
      "source": [
        "#Outliers identification\n",
        "numeric_col = ['Avg_cases','Avg_deaths']\n",
        "new_columns_df.boxplot(numeric_col)"
      ]
    },
    {
      "cell_type": "markdown",
      "metadata": {
        "id": "SrKbj6IkqILv"
      },
      "source": [
        "Removing outliers"
      ]
    },
    {
      "cell_type": "code",
      "execution_count": null,
      "metadata": {
        "colab": {
          "base_uri": "https://localhost:8080/"
        },
        "id": "_WCmyrqwqLiA",
        "outputId": "eb16d96e-80a1-424f-dcb7-017f666d4ed0"
      },
      "outputs": [
        {
          "name": "stdout",
          "output_type": "stream",
          "text": [
            "Avg_cases         461\n",
            "Avg_deaths          0\n",
            "Mean_pc_deaths      0\n",
            "Avg_income          0\n",
            "Poverty_%           0\n",
            "Avg_age_male        0\n",
            "Avg_age_female      0\n",
            "White_eth_%         0\n",
            "Black_eth_%         0\n",
            "Asian_eth_%         0\n",
            "Regions             0\n",
            "States              0\n",
            "dtype: int64\n",
            "Avg_cases         461\n",
            "Avg_deaths        349\n",
            "Mean_pc_deaths      0\n",
            "Avg_income          0\n",
            "Poverty_%           0\n",
            "Avg_age_male        0\n",
            "Avg_age_female      0\n",
            "White_eth_%         0\n",
            "Black_eth_%         0\n",
            "Asian_eth_%         0\n",
            "Regions             0\n",
            "States              0\n",
            "dtype: int64\n"
          ]
        }
      ],
      "source": [
        "#https://www.askpython.com/python/examples/detection-removal-outliers-in-python \n",
        "for x in ['Avg_cases','Avg_deaths']:\n",
        "  q75,q25 = np.percentile(new_columns_df.loc[:,x],[75,25])\n",
        "  intr_qr = q75-q25\n",
        "\n",
        "\n",
        "  max = q75+(1.5*intr_qr)\n",
        "  min = q25-(1.5*intr_qr)\n",
        " \n",
        "  new_columns_df.loc[new_columns_df[x] < min,x] = np.nan\n",
        "  new_columns_df.loc[new_columns_df[x] > max,x] = np.nan\n",
        "\n",
        "  print(new_columns_df.isnull().sum())"
      ]
    },
    {
      "cell_type": "code",
      "execution_count": null,
      "metadata": {
        "colab": {
          "base_uri": "https://localhost:8080/"
        },
        "id": "H84PYfPNrphU",
        "outputId": "3d0c7112-f405-4dc0-8c3d-c72e6542bfb1"
      },
      "outputs": [
        {
          "name": "stdout",
          "output_type": "stream",
          "text": [
            "Avg_cases         0\n",
            "Avg_deaths        0\n",
            "Mean_pc_deaths    0\n",
            "Avg_income        0\n",
            "Poverty_%         0\n",
            "Avg_age_male      0\n",
            "Avg_age_female    0\n",
            "White_eth_%       0\n",
            "Black_eth_%       0\n",
            "Asian_eth_%       0\n",
            "Regions           0\n",
            "States            0\n",
            "dtype: int64\n"
          ]
        }
      ],
      "source": [
        "#Dropping the outliers\n",
        "new_columns_df = new_columns_df.dropna(axis = 0)\n",
        "print(new_columns_df.isnull().sum())"
      ]
    },
    {
      "cell_type": "code",
      "execution_count": null,
      "metadata": {
        "colab": {
          "base_uri": "https://localhost:8080/",
          "height": 283
        },
        "id": "0shqOsqzsRHF",
        "outputId": "fdd8dc60-9334-4033-c3f4-d976fc32cb18"
      },
      "outputs": [
        {
          "data": {
            "text/plain": [
              "<matplotlib.axes._subplots.AxesSubplot at 0x7fc67b62fb10>"
            ]
          },
          "execution_count": 24,
          "metadata": {},
          "output_type": "execute_result"
        },
        {
          "data": {
            "image/png": "[encoded data removed]",
            "text/plain": [
              "<Figure size 432x288 with 1 Axes>"
            ]
          },
          "metadata": {},
          "output_type": "display_data"
        }
      ],
      "source": [
        "#Using boxplot to confirm outliers removal\n",
        "numeric_col = ['Avg_cases','Avg_deaths']\n",
        "new_columns_df.boxplot(numeric_col)"
      ]
    },
    {
      "cell_type": "markdown",
      "metadata": {
        "id": "1UZatiorxw4e"
      },
      "source": [
        "#Analysing data"
      ]
    },
    {
      "cell_type": "code",
      "execution_count": null,
      "metadata": {
        "colab": {
          "base_uri": "https://localhost:8080/"
        },
        "id": "j-08BGpkxzal",
        "outputId": "bdae0a88-5788-43b1-99a6-8889b0fb3e88"
      },
      "outputs": [
        {
          "data": {
            "text/plain": [
              "Avg_cases         0\n",
              "Avg_deaths        0\n",
              "Mean_pc_deaths    0\n",
              "Avg_income        0\n",
              "Poverty_%         0\n",
              "Avg_age_male      0\n",
              "Avg_age_female    0\n",
              "White_eth_%       0\n",
              "Black_eth_%       0\n",
              "Asian_eth_%       0\n",
              "Regions           0\n",
              "States            0\n",
              "dtype: int64"
            ]
          },
          "execution_count": 25,
          "metadata": {},
          "output_type": "execute_result"
        }
      ],
      "source": [
        "#Checking null entries in the dataset\n",
        "new_columns_df.isnull().sum()"
      ]
    },
    {
      "cell_type": "code",
      "execution_count": null,
      "metadata": {
        "colab": {
          "base_uri": "https://localhost:8080/"
        },
        "id": "ttpyF9ipyi02",
        "outputId": "e16ff5cc-0497-40e0-8551-e8c54d9b1e68"
      },
      "outputs": [
        {
          "name": "stdout",
          "output_type": "stream",
          "text": [
            "The final shape of the cancer occurance dataset : (2503, 12)\n"
          ]
        }
      ],
      "source": [
        "#Checking number of variables and records for the analysis\n",
        "print('The final shape of the cancer occurance dataset : ' + str(new_columns_df.shape))"
      ]
    },
    {
      "cell_type": "code",
      "execution_count": null,
      "metadata": {
        "colab": {
          "base_uri": "https://localhost:8080/"
        },
        "id": "vA-ypW1AzOVI",
        "outputId": "7266222d-7855-4ae6-d044-f8146eb9332a"
      },
      "outputs": [
        {
          "data": {
            "text/plain": [
              "Avg_cases         float64\n",
              "Avg_deaths        float64\n",
              "Mean_pc_deaths    float64\n",
              "Avg_income          int64\n",
              "Poverty_%         float64\n",
              "Avg_age_male      float64\n",
              "Avg_age_female    float64\n",
              "White_eth_%       float64\n",
              "Black_eth_%       float64\n",
              "Asian_eth_%       float64\n",
              "Regions            object\n",
              "States             object\n",
              "dtype: object"
            ]
          },
          "execution_count": 28,
          "metadata": {},
          "output_type": "execute_result"
        }
      ],
      "source": [
        "#Checking datatypes in the new dataset\n",
        "new_columns_df.dtypes"
      ]
    },
    {
      "cell_type": "markdown",
      "metadata": {
        "id": "ozw8IrZtzyOw"
      },
      "source": [
        "Visualisations"
      ]
    },
    {
      "cell_type": "code",
      "execution_count": null,
      "metadata": {
        "colab": {
          "base_uri": "https://localhost:8080/",
          "height": 299
        },
        "id": "NJ1eoVnBAZnc",
        "outputId": "c67742a2-ee9c-4ad4-ff54-ab64688de861"
      },
      "outputs": [
        {
          "data": {
            "image/png": "[encoded data removed]",
            "text/plain": [
              "<Figure size 432x288 with 1 Axes>"
            ]
          },
          "metadata": {},
          "output_type": "display_data"
        }
      ],
      "source": [
        "#Linear regression chart\n",
        "slope, intercept, r_value, p_value, std_error = stats.linregress(new_columns_df['Avg_cases'],new_columns_df['Avg_deaths'])\n",
        "\n",
        "def regression(x):\n",
        "  return slope*x + intercept\n",
        "\n",
        "  model = list(map(regression,new_columns_df['Avg_deaths']))\n",
        "\n",
        "plt.scatter(new_columns_df['Avg_cases'],new_columns_df['Avg_deaths'])\n",
        "plt.title('Number of cancer cases vs mortality')\n",
        "plt.xlabel('Cancer cases')\n",
        "plt.ylabel('Cancer deaths')\n",
        "plt.plot(new_columns_df['Avg_cases'],new_columns_df['Avg_deaths'])\n",
        "plt.show()"
      ]
    },
    {
      "cell_type": "code",
      "execution_count": null,
      "metadata": {
        "colab": {
          "base_uri": "https://localhost:8080/"
        },
        "id": "gdCq6ndWMErZ",
        "outputId": "77d1152c-4f2f-4679-f8bf-b133ca11f002"
      },
      "outputs": [
        {
          "name": "stdout",
          "output_type": "stream",
          "text": [
            "Slope: 0.37480315391327945\n",
            "Intercept: 5.530852521961592\n",
            "R value(The Correlation Coefficient is): 0.9857662934353132\n",
            "P value: 0.0\n"
          ]
        }
      ],
      "source": [
        "#Calculating the Correlation Coefficient\n",
        "slope, intercept, r_value, p_value, std_error = stats.linregress(new_columns_df['Avg_cases'],new_columns_df['Avg_deaths'])\n",
        "\n",
        "print('Slope: ' + str(slope))\n",
        "print('Intercept: ' + str(intercept))\n",
        "print('R value(The Correlation Coefficient is): ' + str(r_value))\n",
        "print('P value: ' + str(p_value))\n",
        "plt.show()"
      ]
    },
    {
      "cell_type": "code",
      "execution_count": null,
      "metadata": {
        "colab": {
          "base_uri": "https://localhost:8080/",
          "height": 303
        },
        "id": "6PMHQEHxDUAm",
        "outputId": "34136762-b383-4bb4-cf9e-e8910d148d74"
      },
      "outputs": [
        {
          "data": {
            "image/png": "[encoded data removed]",
            "text/plain": [
              "<Figure size 432x288 with 1 Axes>"
            ]
          },
          "metadata": {},
          "output_type": "display_data"
        }
      ],
      "source": [
        "#Displaying scatter plot\n",
        "new_columns_df.plot(kind='scatter',x='Avg_deaths', y='Avg_cases',\n",
        "        title='Number of cancer cases vs mortality',logx=True,\n",
        "        fontsize=10,\n",
        "        grid=True)\n",
        "\n",
        "plt.show()"
      ]
    },
    {
      "cell_type": "code",
      "execution_count": null,
      "metadata": {
        "colab": {
          "base_uri": "https://localhost:8080/",
          "height": 354
        },
        "id": "iZpet6DYEkVO",
        "outputId": "ed4f90d4-9c46-4cb3-eb20-3a9ba397b6dc"
      },
      "outputs": [
        {
          "name": "stderr",
          "output_type": "stream",
          "text": [
            "/usr/local/lib/python3.7/dist-packages/seaborn/_decorators.py:43: FutureWarning: Pass the following variables as keyword args: x, y, data. From version 0.12, the only valid positional argument will be `data`, and passing other arguments without an explicit keyword will result in an error or misinterpretation.\n",
            "  FutureWarning\n"
          ]
        },
        {
          "data": {
            "text/plain": [
              "<matplotlib.axes._subplots.AxesSubplot at 0x7fc67b8a9490>"
            ]
          },
          "execution_count": 39,
          "metadata": {},
          "output_type": "execute_result"
        },
        {
          "data": {
            "image/png": "[encoded data removed]",
            "text/plain": [
              "<Figure size 432x288 with 1 Axes>"
            ]
          },
          "metadata": {},
          "output_type": "display_data"
        }
      ],
      "source": [
        "#Displaying scatter plot - Linear Regression\n",
        "sns.regplot('Avg_deaths', 'Avg_cases', new_columns_df,\n",
        "         line_kws = {\"color\":\"b\"}, ci=None)"
      ]
    },
    {
      "cell_type": "markdown",
      "metadata": {
        "id": "deRRCJEoEkt5"
      },
      "source": [
        "#Building model\n",
        "\n"
      ]
    },
    {
      "cell_type": "markdown",
      "metadata": {
        "id": "7CUCKOY5yBFD"
      },
      "source": [
        "Creating the Linear Regression"
      ]
    },
    {
      "cell_type": "code",
      "execution_count": null,
      "metadata": {
        "id": "mCla832pJHJO"
      },
      "outputs": [],
      "source": [
        "lm = sm.OLS.from_formula('Avg_deaths ~ Avg_cases', new_columns_df)\n",
        "model_result = lm.fit()\n"
      ]
    },
    {
      "cell_type": "code",
      "execution_count": null,
      "metadata": {
        "colab": {
          "base_uri": "https://localhost:8080/"
        },
        "id": "FRDEMywsIv0j",
        "outputId": "75f6982c-5088-49a2-d313-d20d187fad60"
      },
      "outputs": [
        {
          "name": "stdout",
          "output_type": "stream",
          "text": [
            "                            OLS Regression Results                            \n",
            "==============================================================================\n",
            "Dep. Variable:             Avg_deaths   R-squared:                       0.972\n",
            "Model:                            OLS   Adj. R-squared:                  0.972\n",
            "Method:                 Least Squares   F-statistic:                 8.598e+04\n",
            "Date:                Tue, 28 Jun 2022   Prob (F-statistic):               0.00\n",
            "Time:                        20:41:11   Log-Likelihood:                -9804.0\n",
            "No. Observations:                2503   AIC:                         1.961e+04\n",
            "Df Residuals:                    2501   BIC:                         1.962e+04\n",
            "Df Model:                           1                                         \n",
            "Covariance Type:            nonrobust                                         \n",
            "==============================================================================\n",
            "                 coef    std err          t      P>|t|      [0.025      0.975]\n",
            "------------------------------------------------------------------------------\n",
            "Intercept      5.5309      0.350     15.810      0.000       4.845       6.217\n",
            "Avg_cases      0.3748      0.001    293.230      0.000       0.372       0.377\n",
            "==============================================================================\n",
            "Omnibus:                      648.457   Durbin-Watson:                   1.701\n",
            "Prob(Omnibus):                  0.000   Jarque-Bera (JB):            19417.462\n",
            "Skew:                          -0.581   Prob(JB):                         0.00\n",
            "Kurtosis:                      16.595   Cond. No.                         394.\n",
            "==============================================================================\n",
            "\n",
            "Warnings:\n",
            "[1] Standard Errors assume that the covariance matrix of the errors is correctly specified.\n"
          ]
        }
      ],
      "source": [
        "#Displaying model details\n",
        "print(model_result.summary())"
      ]
    },
    {
      "cell_type": "code",
      "execution_count": null,
      "metadata": {
        "colab": {
          "base_uri": "https://localhost:8080/"
        },
        "id": "8mjZKzs9Ixhx",
        "outputId": "2c4ed4a4-055a-4a60-dd4a-159b3d5964f1"
      },
      "outputs": [
        {
          "data": {
            "text/plain": [
              "Intercept    9.787897e-54\n",
              "Avg_cases    0.000000e+00\n",
              "dtype: float64"
            ]
          },
          "execution_count": 47,
          "metadata": {},
          "output_type": "execute_result"
        }
      ],
      "source": [
        "model_result.pvalues"
      ]
    },
    {
      "cell_type": "markdown",
      "metadata": {
        "id": "7A5eIr8NcPWf"
      },
      "source": [
        "Model Predictions"
      ]
    },
    {
      "cell_type": "code",
      "execution_count": null,
      "metadata": {
        "colab": {
          "base_uri": "https://localhost:8080/"
        },
        "id": "DA9VuW3NcNrM",
        "outputId": "4bb0fe6c-58bd-4525-9707-f463e9039804"
      },
      "outputs": [
        {
          "name": "stdout",
          "output_type": "stream",
          "text": [
            "    Avg_cases\n",
            "0         100\n",
            "1         200\n",
            "2         300\n",
            "3         400\n",
            "4         500\n",
            "5        1000\n",
            "6        2000\n",
            "7        3000\n",
            "8        4000\n",
            "9        5000\n",
            "10       6000\n"
          ]
        }
      ],
      "source": [
        "#Creating new data for the model\n",
        "new_data = pd.DataFrame([[100],[200],[300],[400],[500],[1000],[2000],[3000],[4000],[5000],[6000]],\n",
        "                        columns = ['Avg_cases'])\n",
        "print(new_data)"
      ]
    },
    {
      "cell_type": "code",
      "execution_count": null,
      "metadata": {
        "colab": {
          "base_uri": "https://localhost:8080/"
        },
        "id": "1a6KVJ-fdIiD",
        "outputId": "871d28d6-314f-476f-9f30-9cccd23fed1b"
      },
      "outputs": [
        {
          "data": {
            "text/plain": [
              "0       43.011168\n",
              "1       80.491483\n",
              "2      117.971799\n",
              "3      155.452114\n",
              "4      192.932429\n",
              "5      380.334006\n",
              "6      755.137160\n",
              "7     1129.940314\n",
              "8     1504.743468\n",
              "9     1879.546622\n",
              "10    2254.349776\n",
              "dtype: float64"
            ]
          },
          "execution_count": 49,
          "metadata": {},
          "output_type": "execute_result"
        }
      ],
      "source": [
        "#Displaying number of death cases for the cancer cases accordingly\n",
        "model_result.predict(new_data)"
      ]
    },
    {
      "cell_type": "code",
      "execution_count": null,
      "metadata": {
        "colab": {
          "base_uri": "https://localhost:8080/",
          "height": 354
        },
        "id": "zuCcUW7fff7d",
        "outputId": "cf5e3628-c0da-4433-fcf0-f8500a4f8f70"
      },
      "outputs": [
        {
          "name": "stderr",
          "output_type": "stream",
          "text": [
            "/usr/local/lib/python3.7/dist-packages/seaborn/_decorators.py:43: FutureWarning: Pass the following variables as keyword args: x, y. From version 0.12, the only valid positional argument will be `data`, and passing other arguments without an explicit keyword will result in an error or misinterpretation.\n",
            "  FutureWarning\n"
          ]
        },
        {
          "data": {
            "text/plain": [
              "<matplotlib.axes._subplots.AxesSubplot at 0x7fc67bb40490>"
            ]
          },
          "execution_count": 61,
          "metadata": {},
          "output_type": "execute_result"
        },
        {
          "data": {
            "image/png": "[encoded data removed]",
            "text/plain": [
              "<Figure size 432x288 with 1 Axes>"
            ]
          },
          "metadata": {},
          "output_type": "display_data"
        }
      ],
      "source": [
        "#plotting residuals against the fitted values\n",
        "fitted_values = pd.Series(model_result.fittedvalues, name=\"Fitted Values\")\n",
        "residuals = pd.Series(model_result.resid, name=\"Residuals\")\n",
        "sns.regplot(fitted_values, residuals, fit_reg=False)"
      ]
    }
  ],
  "metadata": {
    "colab": {
      "toc_visible": true,
      "provenance": []
    },
    "kernelspec": {
      "display_name": "Python 3",
      "name": "python3"
    },
    "language_info": {
      "name": "python"
    }
  },
  "nbformat": 4,
  "nbformat_minor": 0
}